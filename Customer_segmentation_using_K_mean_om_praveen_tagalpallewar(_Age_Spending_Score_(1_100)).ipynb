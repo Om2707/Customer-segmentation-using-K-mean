{
  "nbformat": 4,
  "nbformat_minor": 0,
  "metadata": {
    "colab": {
      "provenance": [],
      "mount_file_id": "1MOsEzIG41sKm3cNzGJN4uNoFb6HC5KON",
      "authorship_tag": "ABX9TyPGjnUuyrSJ9t7g3dSQNIZt"
    },
    "kernelspec": {
      "name": "python3",
      "display_name": "Python 3"
    },
    "language_info": {
      "name": "python"
    }
  },
  "cells": [
    {
      "cell_type": "code",
      "execution_count": null,
      "metadata": {
        "id": "Cu9oZiE-GjyD"
      },
      "outputs": [],
      "source": [
        "import numpy as np\n",
        "import pandas as pd\n",
        "import matplotlib.pyplot as plt\n",
        "import seaborn as sns\n",
        "import warnings\n",
        "warnings.filterwarnings('ignore')"
      ]
    },
    {
      "cell_type": "code",
      "source": [
        "df=pd.read_csv('/content/drive/MyDrive/Customer Segmentation/Mall_Customers.csv')\n",
        "df.head()"
      ],
      "metadata": {
        "colab": {
          "base_uri": "https://localhost:8080/",
          "height": 206
        },
        "id": "ZpspnmNAGnHI",
        "outputId": "2032b746-2d46-4d7d-94ad-34df7efc79ff"
      },
      "execution_count": null,
      "outputs": [
        {
          "output_type": "execute_result",
          "data": {
            "text/plain": [
              "   CustomerID   Genre  Age  Annual Income (k$)  Spending Score (1-100)\n",
              "0           1    Male   19                  15                      39\n",
              "1           2    Male   21                  15                      81\n",
              "2           3  Female   20                  16                       6\n",
              "3           4  Female   23                  16                      77\n",
              "4           5  Female   31                  17                      40"
            ],
            "text/html": [
              "\n",
              "  <div id=\"df-c0dc107c-0822-4b04-886c-86a540537275\">\n",
              "    <div class=\"colab-df-container\">\n",
              "      <div>\n",
              "<style scoped>\n",
              "    .dataframe tbody tr th:only-of-type {\n",
              "        vertical-align: middle;\n",
              "    }\n",
              "\n",
              "    .dataframe tbody tr th {\n",
              "        vertical-align: top;\n",
              "    }\n",
              "\n",
              "    .dataframe thead th {\n",
              "        text-align: right;\n",
              "    }\n",
              "</style>\n",
              "<table border=\"1\" class=\"dataframe\">\n",
              "  <thead>\n",
              "    <tr style=\"text-align: right;\">\n",
              "      <th></th>\n",
              "      <th>CustomerID</th>\n",
              "      <th>Genre</th>\n",
              "      <th>Age</th>\n",
              "      <th>Annual Income (k$)</th>\n",
              "      <th>Spending Score (1-100)</th>\n",
              "    </tr>\n",
              "  </thead>\n",
              "  <tbody>\n",
              "    <tr>\n",
              "      <th>0</th>\n",
              "      <td>1</td>\n",
              "      <td>Male</td>\n",
              "      <td>19</td>\n",
              "      <td>15</td>\n",
              "      <td>39</td>\n",
              "    </tr>\n",
              "    <tr>\n",
              "      <th>1</th>\n",
              "      <td>2</td>\n",
              "      <td>Male</td>\n",
              "      <td>21</td>\n",
              "      <td>15</td>\n",
              "      <td>81</td>\n",
              "    </tr>\n",
              "    <tr>\n",
              "      <th>2</th>\n",
              "      <td>3</td>\n",
              "      <td>Female</td>\n",
              "      <td>20</td>\n",
              "      <td>16</td>\n",
              "      <td>6</td>\n",
              "    </tr>\n",
              "    <tr>\n",
              "      <th>3</th>\n",
              "      <td>4</td>\n",
              "      <td>Female</td>\n",
              "      <td>23</td>\n",
              "      <td>16</td>\n",
              "      <td>77</td>\n",
              "    </tr>\n",
              "    <tr>\n",
              "      <th>4</th>\n",
              "      <td>5</td>\n",
              "      <td>Female</td>\n",
              "      <td>31</td>\n",
              "      <td>17</td>\n",
              "      <td>40</td>\n",
              "    </tr>\n",
              "  </tbody>\n",
              "</table>\n",
              "</div>\n",
              "      <button class=\"colab-df-convert\" onclick=\"convertToInteractive('df-c0dc107c-0822-4b04-886c-86a540537275')\"\n",
              "              title=\"Convert this dataframe to an interactive table.\"\n",
              "              style=\"display:none;\">\n",
              "        \n",
              "  <svg xmlns=\"http://www.w3.org/2000/svg\" height=\"24px\"viewBox=\"0 0 24 24\"\n",
              "       width=\"24px\">\n",
              "    <path d=\"M0 0h24v24H0V0z\" fill=\"none\"/>\n",
              "    <path d=\"M18.56 5.44l.94 2.06.94-2.06 2.06-.94-2.06-.94-.94-2.06-.94 2.06-2.06.94zm-11 1L8.5 8.5l.94-2.06 2.06-.94-2.06-.94L8.5 2.5l-.94 2.06-2.06.94zm10 10l.94 2.06.94-2.06 2.06-.94-2.06-.94-.94-2.06-.94 2.06-2.06.94z\"/><path d=\"M17.41 7.96l-1.37-1.37c-.4-.4-.92-.59-1.43-.59-.52 0-1.04.2-1.43.59L10.3 9.45l-7.72 7.72c-.78.78-.78 2.05 0 2.83L4 21.41c.39.39.9.59 1.41.59.51 0 1.02-.2 1.41-.59l7.78-7.78 2.81-2.81c.8-.78.8-2.07 0-2.86zM5.41 20L4 18.59l7.72-7.72 1.47 1.35L5.41 20z\"/>\n",
              "  </svg>\n",
              "      </button>\n",
              "      \n",
              "  <style>\n",
              "    .colab-df-container {\n",
              "      display:flex;\n",
              "      flex-wrap:wrap;\n",
              "      gap: 12px;\n",
              "    }\n",
              "\n",
              "    .colab-df-convert {\n",
              "      background-color: #E8F0FE;\n",
              "      border: none;\n",
              "      border-radius: 50%;\n",
              "      cursor: pointer;\n",
              "      display: none;\n",
              "      fill: #1967D2;\n",
              "      height: 32px;\n",
              "      padding: 0 0 0 0;\n",
              "      width: 32px;\n",
              "    }\n",
              "\n",
              "    .colab-df-convert:hover {\n",
              "      background-color: #E2EBFA;\n",
              "      box-shadow: 0px 1px 2px rgba(60, 64, 67, 0.3), 0px 1px 3px 1px rgba(60, 64, 67, 0.15);\n",
              "      fill: #174EA6;\n",
              "    }\n",
              "\n",
              "    [theme=dark] .colab-df-convert {\n",
              "      background-color: #3B4455;\n",
              "      fill: #D2E3FC;\n",
              "    }\n",
              "\n",
              "    [theme=dark] .colab-df-convert:hover {\n",
              "      background-color: #434B5C;\n",
              "      box-shadow: 0px 1px 3px 1px rgba(0, 0, 0, 0.15);\n",
              "      filter: drop-shadow(0px 1px 2px rgba(0, 0, 0, 0.3));\n",
              "      fill: #FFFFFF;\n",
              "    }\n",
              "  </style>\n",
              "\n",
              "      <script>\n",
              "        const buttonEl =\n",
              "          document.querySelector('#df-c0dc107c-0822-4b04-886c-86a540537275 button.colab-df-convert');\n",
              "        buttonEl.style.display =\n",
              "          google.colab.kernel.accessAllowed ? 'block' : 'none';\n",
              "\n",
              "        async function convertToInteractive(key) {\n",
              "          const element = document.querySelector('#df-c0dc107c-0822-4b04-886c-86a540537275');\n",
              "          const dataTable =\n",
              "            await google.colab.kernel.invokeFunction('convertToInteractive',\n",
              "                                                     [key], {});\n",
              "          if (!dataTable) return;\n",
              "\n",
              "          const docLinkHtml = 'Like what you see? Visit the ' +\n",
              "            '<a target=\"_blank\" href=https://colab.research.google.com/notebooks/data_table.ipynb>data table notebook</a>'\n",
              "            + ' to learn more about interactive tables.';\n",
              "          element.innerHTML = '';\n",
              "          dataTable['output_type'] = 'display_data';\n",
              "          await google.colab.output.renderOutput(dataTable, element);\n",
              "          const docLink = document.createElement('div');\n",
              "          docLink.innerHTML = docLinkHtml;\n",
              "          element.appendChild(docLink);\n",
              "        }\n",
              "      </script>\n",
              "    </div>\n",
              "  </div>\n",
              "  "
            ]
          },
          "metadata": {},
          "execution_count": 2
        }
      ]
    },
    {
      "cell_type": "code",
      "source": [
        "# since here is all , just because unlabelled data\n",
        "# i need to convert data in numpy matrix\n",
        "x = df[[\t'Age','Spending Score (1-100)']].values\n",
        "x"
      ],
      "metadata": {
        "colab": {
          "base_uri": "https://localhost:8080/"
        },
        "id": "Myp0VhY6GnKK",
        "outputId": "f871c2de-93dd-4222-cb80-e947a2226cd0"
      },
      "execution_count": null,
      "outputs": [
        {
          "output_type": "execute_result",
          "data": {
            "text/plain": [
              "array([[19, 39],\n",
              "       [21, 81],\n",
              "       [20,  6],\n",
              "       [23, 77],\n",
              "       [31, 40],\n",
              "       [22, 76],\n",
              "       [35,  6],\n",
              "       [23, 94],\n",
              "       [64,  3],\n",
              "       [30, 72],\n",
              "       [67, 14],\n",
              "       [35, 99],\n",
              "       [58, 15],\n",
              "       [24, 77],\n",
              "       [37, 13],\n",
              "       [22, 79],\n",
              "       [35, 35],\n",
              "       [20, 66],\n",
              "       [52, 29],\n",
              "       [35, 98],\n",
              "       [35, 35],\n",
              "       [25, 73],\n",
              "       [46,  5],\n",
              "       [31, 73],\n",
              "       [54, 14],\n",
              "       [29, 82],\n",
              "       [45, 32],\n",
              "       [35, 61],\n",
              "       [40, 31],\n",
              "       [23, 87],\n",
              "       [60,  4],\n",
              "       [21, 73],\n",
              "       [53,  4],\n",
              "       [18, 92],\n",
              "       [49, 14],\n",
              "       [21, 81],\n",
              "       [42, 17],\n",
              "       [30, 73],\n",
              "       [36, 26],\n",
              "       [20, 75],\n",
              "       [65, 35],\n",
              "       [24, 92],\n",
              "       [48, 36],\n",
              "       [31, 61],\n",
              "       [49, 28],\n",
              "       [24, 65],\n",
              "       [50, 55],\n",
              "       [27, 47],\n",
              "       [29, 42],\n",
              "       [31, 42],\n",
              "       [49, 52],\n",
              "       [33, 60],\n",
              "       [31, 54],\n",
              "       [59, 60],\n",
              "       [50, 45],\n",
              "       [47, 41],\n",
              "       [51, 50],\n",
              "       [69, 46],\n",
              "       [27, 51],\n",
              "       [53, 46],\n",
              "       [70, 56],\n",
              "       [19, 55],\n",
              "       [67, 52],\n",
              "       [54, 59],\n",
              "       [63, 51],\n",
              "       [18, 59],\n",
              "       [43, 50],\n",
              "       [68, 48],\n",
              "       [19, 59],\n",
              "       [32, 47],\n",
              "       [70, 55],\n",
              "       [47, 42],\n",
              "       [60, 49],\n",
              "       [60, 56],\n",
              "       [59, 47],\n",
              "       [26, 54],\n",
              "       [45, 53],\n",
              "       [40, 48],\n",
              "       [23, 52],\n",
              "       [49, 42],\n",
              "       [57, 51],\n",
              "       [38, 55],\n",
              "       [67, 41],\n",
              "       [46, 44],\n",
              "       [21, 57],\n",
              "       [48, 46],\n",
              "       [55, 58],\n",
              "       [22, 55],\n",
              "       [34, 60],\n",
              "       [50, 46],\n",
              "       [68, 55],\n",
              "       [18, 41],\n",
              "       [48, 49],\n",
              "       [40, 40],\n",
              "       [32, 42],\n",
              "       [24, 52],\n",
              "       [47, 47],\n",
              "       [27, 50],\n",
              "       [48, 42],\n",
              "       [20, 49],\n",
              "       [23, 41],\n",
              "       [49, 48],\n",
              "       [67, 59],\n",
              "       [26, 55],\n",
              "       [49, 56],\n",
              "       [21, 42],\n",
              "       [66, 50],\n",
              "       [54, 46],\n",
              "       [68, 43],\n",
              "       [66, 48],\n",
              "       [65, 52],\n",
              "       [19, 54],\n",
              "       [38, 42],\n",
              "       [19, 46],\n",
              "       [18, 48],\n",
              "       [19, 50],\n",
              "       [63, 43],\n",
              "       [49, 59],\n",
              "       [51, 43],\n",
              "       [50, 57],\n",
              "       [27, 56],\n",
              "       [38, 40],\n",
              "       [40, 58],\n",
              "       [39, 91],\n",
              "       [23, 29],\n",
              "       [31, 77],\n",
              "       [43, 35],\n",
              "       [40, 95],\n",
              "       [59, 11],\n",
              "       [38, 75],\n",
              "       [47,  9],\n",
              "       [39, 75],\n",
              "       [25, 34],\n",
              "       [31, 71],\n",
              "       [20,  5],\n",
              "       [29, 88],\n",
              "       [44,  7],\n",
              "       [32, 73],\n",
              "       [19, 10],\n",
              "       [35, 72],\n",
              "       [57,  5],\n",
              "       [32, 93],\n",
              "       [28, 40],\n",
              "       [32, 87],\n",
              "       [25, 12],\n",
              "       [28, 97],\n",
              "       [48, 36],\n",
              "       [32, 74],\n",
              "       [34, 22],\n",
              "       [34, 90],\n",
              "       [43, 17],\n",
              "       [39, 88],\n",
              "       [44, 20],\n",
              "       [38, 76],\n",
              "       [47, 16],\n",
              "       [27, 89],\n",
              "       [37,  1],\n",
              "       [30, 78],\n",
              "       [34,  1],\n",
              "       [30, 73],\n",
              "       [56, 35],\n",
              "       [29, 83],\n",
              "       [19,  5],\n",
              "       [31, 93],\n",
              "       [50, 26],\n",
              "       [36, 75],\n",
              "       [42, 20],\n",
              "       [33, 95],\n",
              "       [36, 27],\n",
              "       [32, 63],\n",
              "       [40, 13],\n",
              "       [28, 75],\n",
              "       [36, 10],\n",
              "       [36, 92],\n",
              "       [52, 13],\n",
              "       [30, 86],\n",
              "       [58, 15],\n",
              "       [27, 69],\n",
              "       [59, 14],\n",
              "       [35, 90],\n",
              "       [37, 32],\n",
              "       [32, 86],\n",
              "       [46, 15],\n",
              "       [29, 88],\n",
              "       [41, 39],\n",
              "       [30, 97],\n",
              "       [54, 24],\n",
              "       [28, 68],\n",
              "       [41, 17],\n",
              "       [36, 85],\n",
              "       [34, 23],\n",
              "       [32, 69],\n",
              "       [33,  8],\n",
              "       [38, 91],\n",
              "       [47, 16],\n",
              "       [35, 79],\n",
              "       [45, 28],\n",
              "       [32, 74],\n",
              "       [32, 18],\n",
              "       [30, 83]])"
            ]
          },
          "metadata": {},
          "execution_count": 3
        }
      ]
    },
    {
      "cell_type": "code",
      "source": [
        "# plot the data points || original shape\n",
        "plt.figure(figsize=(10,6))\n",
        "plt.scatter(x[:,0] ,x[:,1],s=5) # x[:,0] = age column , x[:,1]= annual income\n",
        "plt.xlabel('Age')\n",
        "plt.ylabel('Spending Score')\n",
        "plt.show()"
      ],
      "metadata": {
        "colab": {
          "base_uri": "https://localhost:8080/",
          "height": 388
        },
        "id": "F2QdqWDlGnNL",
        "outputId": "dd04e031-88be-4033-c49a-76c06f6ac60a"
      },
      "execution_count": null,
      "outputs": [
        {
          "output_type": "display_data",
          "data": {
            "text/plain": [
              "<Figure size 720x432 with 1 Axes>"
            ],
            "image/png": "[encoded data removed]"
          },
          "metadata": {
            "needs_background": "light"
          }
        }
      ]
    },
    {
      "cell_type": "code",
      "source": [
        "# apply algorithm\n",
        "# load algorithm\n",
        "from sklearn.cluster import KMeans"
      ],
      "metadata": {
        "id": "mqM92YN4GnQO"
      },
      "execution_count": null,
      "outputs": []
    },
    {
      "cell_type": "code",
      "source": [
        "model = KMeans()\n",
        "model.fit(x) # only features data"
      ],
      "metadata": {
        "colab": {
          "base_uri": "https://localhost:8080/"
        },
        "id": "bxcY_i5aGnVs",
        "outputId": "c46c1053-8f56-460a-8a5a-f9283f876497"
      },
      "execution_count": null,
      "outputs": [
        {
          "output_type": "execute_result",
          "data": {
            "text/plain": [
              "KMeans()"
            ]
          },
          "metadata": {},
          "execution_count": 6
        }
      ]
    },
    {
      "cell_type": "code",
      "source": [
        "# how many cluster create by model by default\n",
        "model.n_clusters"
      ],
      "metadata": {
        "colab": {
          "base_uri": "https://localhost:8080/"
        },
        "id": "RLvY3hYAHEb2",
        "outputId": "5c4e8613-7d65-4e03-fdaa-75c072115e5f"
      },
      "execution_count": null,
      "outputs": [
        {
          "output_type": "execute_result",
          "data": {
            "text/plain": [
              "8"
            ]
          },
          "metadata": {},
          "execution_count": 7
        }
      ]
    },
    {
      "cell_type": "code",
      "source": [
        "# wcss(error) || technical term inertia\n",
        "model.inertia_"
      ],
      "metadata": {
        "colab": {
          "base_uri": "https://localhost:8080/"
        },
        "id": "awAuqmQMHEfH",
        "outputId": "6a0e4c90-d8b4-4f58-83a8-98d4701af9d2"
      },
      "execution_count": null,
      "outputs": [
        {
          "output_type": "execute_result",
          "data": {
            "text/plain": [
              "13017.004603174602"
            ]
          },
          "metadata": {},
          "execution_count": 8
        }
      ]
    },
    {
      "cell_type": "code",
      "source": [
        "round(model.inertia_)"
      ],
      "metadata": {
        "colab": {
          "base_uri": "https://localhost:8080/"
        },
        "id": "MpJ77HryHEhq",
        "outputId": "a6c9906a-9b7a-4b1c-df05-6647f93607be"
      },
      "execution_count": null,
      "outputs": [
        {
          "output_type": "execute_result",
          "data": {
            "text/plain": [
              "13017"
            ]
          },
          "metadata": {},
          "execution_count": 9
        }
      ]
    },
    {
      "cell_type": "code",
      "source": [
        "# Elbow method\n",
        "err=[]\n",
        "for i in range(1,15):\n",
        "  model1 = KMeans(n_clusters=i)\n",
        "  model1.fit(x) # only features data\n",
        "  print('Cluster number ->', i , '  || Error ->', round(model1.inertia_))\n",
        "  # store the error in list err\n",
        "  err.append(round(model1.inertia_))"
      ],
      "metadata": {
        "colab": {
          "base_uri": "https://localhost:8080/"
        },
        "id": "XlybLQZDHElT",
        "outputId": "b584161f-811c-4590-9335-b63e80f7a527"
      },
      "execution_count": null,
      "outputs": [
        {
          "output_type": "stream",
          "name": "stdout",
          "text": [
            "Cluster number -> 1   || Error -> 171536\n",
            "Cluster number -> 2   || Error -> 75949\n",
            "Cluster number -> 3   || Error -> 45841\n",
            "Cluster number -> 4   || Error -> 28166\n",
            "Cluster number -> 5   || Error -> 23818\n",
            "Cluster number -> 6   || Error -> 19567\n",
            "Cluster number -> 7   || Error -> 15514\n",
            "Cluster number -> 8   || Error -> 13095\n",
            "Cluster number -> 9   || Error -> 11554\n",
            "Cluster number -> 10   || Error -> 10215\n",
            "Cluster number -> 11   || Error -> 9449\n",
            "Cluster number -> 12   || Error -> 8582\n",
            "Cluster number -> 13   || Error -> 7902\n",
            "Cluster number -> 14   || Error -> 7436\n"
          ]
        }
      ]
    },
    {
      "cell_type": "code",
      "source": [
        "# Plot the elbow\n",
        "plt.plot(range(1,15), err)\n",
        "plt.scatter(range(1,15), err, marker='o', c='black', s=50)\n",
        "plt.xlabel('K- value')\n",
        "plt.ylabel('Error')\n",
        "plt.show()"
      ],
      "metadata": {
        "colab": {
          "base_uri": "https://localhost:8080/",
          "height": 279
        },
        "id": "xFasjHNKHEos",
        "outputId": "37db8d46-f135-4128-ec64-527dc2683c49"
      },
      "execution_count": null,
      "outputs": [
        {
          "output_type": "display_data",
          "data": {
            "text/plain": [
              "<Figure size 432x288 with 1 Axes>"
            ],
            "image/png": "[encoded data removed]"
          },
          "metadata": {
            "needs_background": "light"
          }
        }
      ]
    },
    {
      "cell_type": "code",
      "source": [
        "# we are building model with k= 10\n",
        "model2 = KMeans(n_clusters=10)\n",
        "model2.fit(x)\n",
        "# get pridiction\n",
        "y_kmean = model2.predict(x)  #  y_kmean = pred"
      ],
      "metadata": {
        "id": "lbJ9MjrgHEr0"
      },
      "execution_count": null,
      "outputs": []
    },
    {
      "cell_type": "code",
      "source": [
        "y_kmean"
      ],
      "metadata": {
        "colab": {
          "base_uri": "https://localhost:8080/"
        },
        "id": "K00iE7CkHEvQ",
        "outputId": "da23f25f-1019-4f3d-ebe3-36169e7ad75c"
      },
      "execution_count": null,
      "outputs": [
        {
          "output_type": "execute_result",
          "data": {
            "text/plain": [
              "array([9, 6, 5, 6, 9, 6, 5, 2, 1, 6, 1, 2, 1, 6, 7, 6, 4, 0, 4, 2, 4, 6,\n",
              "       1, 6, 1, 6, 4, 0, 4, 2, 1, 6, 1, 2, 1, 6, 7, 6, 7, 6, 3, 2, 4, 0,\n",
              "       7, 0, 8, 9, 9, 9, 8, 0, 0, 3, 8, 4, 8, 3, 0, 8, 3, 0, 3, 8, 3, 0,\n",
              "       8, 3, 0, 9, 3, 4, 3, 3, 3, 0, 8, 8, 0, 4, 8, 8, 3, 4, 0, 8, 8, 0,\n",
              "       0, 8, 3, 9, 8, 4, 9, 0, 8, 0, 4, 0, 9, 8, 3, 0, 8, 9, 3, 8, 3, 3,\n",
              "       3, 0, 4, 9, 9, 0, 3, 8, 8, 8, 0, 4, 8, 2, 9, 6, 4, 2, 1, 6, 1, 6,\n",
              "       9, 6, 5, 2, 1, 6, 5, 6, 1, 2, 9, 2, 5, 2, 4, 6, 7, 2, 7, 2, 7, 6,\n",
              "       7, 2, 5, 6, 5, 6, 4, 2, 5, 2, 7, 6, 7, 2, 7, 0, 7, 6, 5, 2, 1, 2,\n",
              "       1, 6, 1, 2, 4, 2, 7, 2, 4, 2, 7, 6, 7, 2, 7, 6, 5, 2, 7, 6, 7, 6,\n",
              "       7, 2], dtype=int32)"
            ]
          },
          "metadata": {},
          "execution_count": 13
        }
      ]
    },
    {
      "cell_type": "code",
      "source": [
        "# centroid coordinate\n",
        "model2.cluster_centers_"
      ],
      "metadata": {
        "colab": {
          "base_uri": "https://localhost:8080/"
        },
        "id": "z9KK1ftkHfko",
        "outputId": "bec918ef-f5a4-466a-d1ab-da6b9fd2c874"
      },
      "execution_count": null,
      "outputs": [
        {
          "output_type": "execute_result",
          "data": {
            "text/plain": [
              "array([[25.08695652, 56.43478261],\n",
              "       [55.13333333,  9.8       ],\n",
              "       [31.37037037, 90.7037037 ],\n",
              "       [65.26315789, 49.78947368],\n",
              "       [43.84210526, 37.26315789],\n",
              "       [27.8       ,  6.4       ],\n",
              "       [29.1       , 74.83333333],\n",
              "       [42.05263158, 20.31578947],\n",
              "       [48.69565217, 51.17391304],\n",
              "       [25.06666667, 41.33333333]])"
            ]
          },
          "metadata": {},
          "execution_count": 15
        }
      ]
    },
    {
      "cell_type": "code",
      "source": [
        "# datapoints which goes to cluster id =0 || cluster 1\n",
        "temp_age = x[y_kmean==0,0]"
      ],
      "metadata": {
        "id": "XfZNDOUXHfnn"
      },
      "execution_count": null,
      "outputs": []
    },
    {
      "cell_type": "code",
      "source": [
        "temp_age"
      ],
      "metadata": {
        "colab": {
          "base_uri": "https://localhost:8080/"
        },
        "id": "90nlcXA6Hfqg",
        "outputId": "44b077de-742e-4275-e1d3-e3831341bf29"
      },
      "execution_count": null,
      "outputs": [
        {
          "output_type": "execute_result",
          "data": {
            "text/plain": [
              "array([20, 35, 31, 24, 33, 31, 27, 19, 18, 19, 26, 23, 21, 22, 34, 24, 27,\n",
              "       20, 26, 19, 19, 27, 32])"
            ]
          },
          "metadata": {},
          "execution_count": 17
        }
      ]
    },
    {
      "cell_type": "code",
      "source": [
        "temp_SpendingScore = x[y_kmean==0,1]"
      ],
      "metadata": {
        "id": "gDAoYeEpHftY"
      },
      "execution_count": null,
      "outputs": []
    },
    {
      "cell_type": "code",
      "source": [
        "temp_SpendingScore"
      ],
      "metadata": {
        "colab": {
          "base_uri": "https://localhost:8080/"
        },
        "id": "rAhMlgc8HfwH",
        "outputId": "486600b7-34f0-45c1-c9d2-74ed03fc0d9e"
      },
      "execution_count": null,
      "outputs": [
        {
          "output_type": "execute_result",
          "data": {
            "text/plain": [
              "array([66, 61, 61, 65, 60, 54, 51, 55, 59, 59, 54, 52, 57, 55, 60, 52, 50,\n",
              "       49, 55, 54, 50, 56, 63])"
            ]
          },
          "metadata": {},
          "execution_count": 19
        }
      ]
    },
    {
      "cell_type": "code",
      "source": [
        "# tabular representation\n",
        "cluster_1 = pd.DataFrame({'Age' :temp_age , 'Spending Score' : temp_SpendingScore })\n",
        "cluster_1"
      ],
      "metadata": {
        "colab": {
          "base_uri": "https://localhost:8080/",
          "height": 770
        },
        "id": "WEeUDGwSHtRJ",
        "outputId": "28622f8d-5154-4d6b-bf54-6ed1defd89d6"
      },
      "execution_count": null,
      "outputs": [
        {
          "output_type": "execute_result",
          "data": {
            "text/plain": [
              "    Age  Spending Score\n",
              "0    20              66\n",
              "1    35              61\n",
              "2    31              61\n",
              "3    24              65\n",
              "4    33              60\n",
              "5    31              54\n",
              "6    27              51\n",
              "7    19              55\n",
              "8    18              59\n",
              "9    19              59\n",
              "10   26              54\n",
              "11   23              52\n",
              "12   21              57\n",
              "13   22              55\n",
              "14   34              60\n",
              "15   24              52\n",
              "16   27              50\n",
              "17   20              49\n",
              "18   26              55\n",
              "19   19              54\n",
              "20   19              50\n",
              "21   27              56\n",
              "22   32              63"
            ],
            "text/html": [
              "\n",
              "  <div id=\"df-d48819f0-e04d-4b50-ad7c-919d4a1777d8\">\n",
              "    <div class=\"colab-df-container\">\n",
              "      <div>\n",
              "<style scoped>\n",
              "    .dataframe tbody tr th:only-of-type {\n",
              "        vertical-align: middle;\n",
              "    }\n",
              "\n",
              "    .dataframe tbody tr th {\n",
              "        vertical-align: top;\n",
              "    }\n",
              "\n",
              "    .dataframe thead th {\n",
              "        text-align: right;\n",
              "    }\n",
              "</style>\n",
              "<table border=\"1\" class=\"dataframe\">\n",
              "  <thead>\n",
              "    <tr style=\"text-align: right;\">\n",
              "      <th></th>\n",
              "      <th>Age</th>\n",
              "      <th>Spending Score</th>\n",
              "    </tr>\n",
              "  </thead>\n",
              "  <tbody>\n",
              "    <tr>\n",
              "      <th>0</th>\n",
              "      <td>20</td>\n",
              "      <td>66</td>\n",
              "    </tr>\n",
              "    <tr>\n",
              "      <th>1</th>\n",
              "      <td>35</td>\n",
              "      <td>61</td>\n",
              "    </tr>\n",
              "    <tr>\n",
              "      <th>2</th>\n",
              "      <td>31</td>\n",
              "      <td>61</td>\n",
              "    </tr>\n",
              "    <tr>\n",
              "      <th>3</th>\n",
              "      <td>24</td>\n",
              "      <td>65</td>\n",
              "    </tr>\n",
              "    <tr>\n",
              "      <th>4</th>\n",
              "      <td>33</td>\n",
              "      <td>60</td>\n",
              "    </tr>\n",
              "    <tr>\n",
              "      <th>5</th>\n",
              "      <td>31</td>\n",
              "      <td>54</td>\n",
              "    </tr>\n",
              "    <tr>\n",
              "      <th>6</th>\n",
              "      <td>27</td>\n",
              "      <td>51</td>\n",
              "    </tr>\n",
              "    <tr>\n",
              "      <th>7</th>\n",
              "      <td>19</td>\n",
              "      <td>55</td>\n",
              "    </tr>\n",
              "    <tr>\n",
              "      <th>8</th>\n",
              "      <td>18</td>\n",
              "      <td>59</td>\n",
              "    </tr>\n",
              "    <tr>\n",
              "      <th>9</th>\n",
              "      <td>19</td>\n",
              "      <td>59</td>\n",
              "    </tr>\n",
              "    <tr>\n",
              "      <th>10</th>\n",
              "      <td>26</td>\n",
              "      <td>54</td>\n",
              "    </tr>\n",
              "    <tr>\n",
              "      <th>11</th>\n",
              "      <td>23</td>\n",
              "      <td>52</td>\n",
              "    </tr>\n",
              "    <tr>\n",
              "      <th>12</th>\n",
              "      <td>21</td>\n",
              "      <td>57</td>\n",
              "    </tr>\n",
              "    <tr>\n",
              "      <th>13</th>\n",
              "      <td>22</td>\n",
              "      <td>55</td>\n",
              "    </tr>\n",
              "    <tr>\n",
              "      <th>14</th>\n",
              "      <td>34</td>\n",
              "      <td>60</td>\n",
              "    </tr>\n",
              "    <tr>\n",
              "      <th>15</th>\n",
              "      <td>24</td>\n",
              "      <td>52</td>\n",
              "    </tr>\n",
              "    <tr>\n",
              "      <th>16</th>\n",
              "      <td>27</td>\n",
              "      <td>50</td>\n",
              "    </tr>\n",
              "    <tr>\n",
              "      <th>17</th>\n",
              "      <td>20</td>\n",
              "      <td>49</td>\n",
              "    </tr>\n",
              "    <tr>\n",
              "      <th>18</th>\n",
              "      <td>26</td>\n",
              "      <td>55</td>\n",
              "    </tr>\n",
              "    <tr>\n",
              "      <th>19</th>\n",
              "      <td>19</td>\n",
              "      <td>54</td>\n",
              "    </tr>\n",
              "    <tr>\n",
              "      <th>20</th>\n",
              "      <td>19</td>\n",
              "      <td>50</td>\n",
              "    </tr>\n",
              "    <tr>\n",
              "      <th>21</th>\n",
              "      <td>27</td>\n",
              "      <td>56</td>\n",
              "    </tr>\n",
              "    <tr>\n",
              "      <th>22</th>\n",
              "      <td>32</td>\n",
              "      <td>63</td>\n",
              "    </tr>\n",
              "  </tbody>\n",
              "</table>\n",
              "</div>\n",
              "      <button class=\"colab-df-convert\" onclick=\"convertToInteractive('df-d48819f0-e04d-4b50-ad7c-919d4a1777d8')\"\n",
              "              title=\"Convert this dataframe to an interactive table.\"\n",
              "              style=\"display:none;\">\n",
              "        \n",
              "  <svg xmlns=\"http://www.w3.org/2000/svg\" height=\"24px\"viewBox=\"0 0 24 24\"\n",
              "       width=\"24px\">\n",
              "    <path d=\"M0 0h24v24H0V0z\" fill=\"none\"/>\n",
              "    <path d=\"M18.56 5.44l.94 2.06.94-2.06 2.06-.94-2.06-.94-.94-2.06-.94 2.06-2.06.94zm-11 1L8.5 8.5l.94-2.06 2.06-.94-2.06-.94L8.5 2.5l-.94 2.06-2.06.94zm10 10l.94 2.06.94-2.06 2.06-.94-2.06-.94-.94-2.06-.94 2.06-2.06.94z\"/><path d=\"M17.41 7.96l-1.37-1.37c-.4-.4-.92-.59-1.43-.59-.52 0-1.04.2-1.43.59L10.3 9.45l-7.72 7.72c-.78.78-.78 2.05 0 2.83L4 21.41c.39.39.9.59 1.41.59.51 0 1.02-.2 1.41-.59l7.78-7.78 2.81-2.81c.8-.78.8-2.07 0-2.86zM5.41 20L4 18.59l7.72-7.72 1.47 1.35L5.41 20z\"/>\n",
              "  </svg>\n",
              "      </button>\n",
              "      \n",
              "  <style>\n",
              "    .colab-df-container {\n",
              "      display:flex;\n",
              "      flex-wrap:wrap;\n",
              "      gap: 12px;\n",
              "    }\n",
              "\n",
              "    .colab-df-convert {\n",
              "      background-color: #E8F0FE;\n",
              "      border: none;\n",
              "      border-radius: 50%;\n",
              "      cursor: pointer;\n",
              "      display: none;\n",
              "      fill: #1967D2;\n",
              "      height: 32px;\n",
              "      padding: 0 0 0 0;\n",
              "      width: 32px;\n",
              "    }\n",
              "\n",
              "    .colab-df-convert:hover {\n",
              "      background-color: #E2EBFA;\n",
              "      box-shadow: 0px 1px 2px rgba(60, 64, 67, 0.3), 0px 1px 3px 1px rgba(60, 64, 67, 0.15);\n",
              "      fill: #174EA6;\n",
              "    }\n",
              "\n",
              "    [theme=dark] .colab-df-convert {\n",
              "      background-color: #3B4455;\n",
              "      fill: #D2E3FC;\n",
              "    }\n",
              "\n",
              "    [theme=dark] .colab-df-convert:hover {\n",
              "      background-color: #434B5C;\n",
              "      box-shadow: 0px 1px 3px 1px rgba(0, 0, 0, 0.15);\n",
              "      filter: drop-shadow(0px 1px 2px rgba(0, 0, 0, 0.3));\n",
              "      fill: #FFFFFF;\n",
              "    }\n",
              "  </style>\n",
              "\n",
              "      <script>\n",
              "        const buttonEl =\n",
              "          document.querySelector('#df-d48819f0-e04d-4b50-ad7c-919d4a1777d8 button.colab-df-convert');\n",
              "        buttonEl.style.display =\n",
              "          google.colab.kernel.accessAllowed ? 'block' : 'none';\n",
              "\n",
              "        async function convertToInteractive(key) {\n",
              "          const element = document.querySelector('#df-d48819f0-e04d-4b50-ad7c-919d4a1777d8');\n",
              "          const dataTable =\n",
              "            await google.colab.kernel.invokeFunction('convertToInteractive',\n",
              "                                                     [key], {});\n",
              "          if (!dataTable) return;\n",
              "\n",
              "          const docLinkHtml = 'Like what you see? Visit the ' +\n",
              "            '<a target=\"_blank\" href=https://colab.research.google.com/notebooks/data_table.ipynb>data table notebook</a>'\n",
              "            + ' to learn more about interactive tables.';\n",
              "          element.innerHTML = '';\n",
              "          dataTable['output_type'] = 'display_data';\n",
              "          await google.colab.output.renderOutput(dataTable, element);\n",
              "          const docLink = document.createElement('div');\n",
              "          docLink.innerHTML = docLinkHtml;\n",
              "          element.appendChild(docLink);\n",
              "        }\n",
              "      </script>\n",
              "    </div>\n",
              "  </div>\n",
              "  "
            ]
          },
          "metadata": {},
          "execution_count": 20
        }
      ]
    },
    {
      "cell_type": "code",
      "source": [
        "# tabular representation\n",
        "cluster_2 = pd.DataFrame({'Age' :x[y_kmean==1,0] , 'Spending Score' : x[y_kmean==1,1] })\n",
        "cluster_2"
      ],
      "metadata": {
        "colab": {
          "base_uri": "https://localhost:8080/",
          "height": 520
        },
        "id": "Zc7oMVmTHtUJ",
        "outputId": "9095797f-4793-4d75-8a0f-4ca5130ded49"
      },
      "execution_count": null,
      "outputs": [
        {
          "output_type": "execute_result",
          "data": {
            "text/plain": [
              "    Age  Spending Score\n",
              "0    64               3\n",
              "1    67              14\n",
              "2    58              15\n",
              "3    46               5\n",
              "4    54              14\n",
              "5    60               4\n",
              "6    53               4\n",
              "7    49              14\n",
              "8    59              11\n",
              "9    47               9\n",
              "10   44               7\n",
              "11   57               5\n",
              "12   52              13\n",
              "13   58              15\n",
              "14   59              14"
            ],
            "text/html": [
              "\n",
              "  <div id=\"df-1f0a67cc-1755-43e5-addb-405672a32179\">\n",
              "    <div class=\"colab-df-container\">\n",
              "      <div>\n",
              "<style scoped>\n",
              "    .dataframe tbody tr th:only-of-type {\n",
              "        vertical-align: middle;\n",
              "    }\n",
              "\n",
              "    .dataframe tbody tr th {\n",
              "        vertical-align: top;\n",
              "    }\n",
              "\n",
              "    .dataframe thead th {\n",
              "        text-align: right;\n",
              "    }\n",
              "</style>\n",
              "<table border=\"1\" class=\"dataframe\">\n",
              "  <thead>\n",
              "    <tr style=\"text-align: right;\">\n",
              "      <th></th>\n",
              "      <th>Age</th>\n",
              "      <th>Spending Score</th>\n",
              "    </tr>\n",
              "  </thead>\n",
              "  <tbody>\n",
              "    <tr>\n",
              "      <th>0</th>\n",
              "      <td>64</td>\n",
              "      <td>3</td>\n",
              "    </tr>\n",
              "    <tr>\n",
              "      <th>1</th>\n",
              "      <td>67</td>\n",
              "      <td>14</td>\n",
              "    </tr>\n",
              "    <tr>\n",
              "      <th>2</th>\n",
              "      <td>58</td>\n",
              "      <td>15</td>\n",
              "    </tr>\n",
              "    <tr>\n",
              "      <th>3</th>\n",
              "      <td>46</td>\n",
              "      <td>5</td>\n",
              "    </tr>\n",
              "    <tr>\n",
              "      <th>4</th>\n",
              "      <td>54</td>\n",
              "      <td>14</td>\n",
              "    </tr>\n",
              "    <tr>\n",
              "      <th>5</th>\n",
              "      <td>60</td>\n",
              "      <td>4</td>\n",
              "    </tr>\n",
              "    <tr>\n",
              "      <th>6</th>\n",
              "      <td>53</td>\n",
              "      <td>4</td>\n",
              "    </tr>\n",
              "    <tr>\n",
              "      <th>7</th>\n",
              "      <td>49</td>\n",
              "      <td>14</td>\n",
              "    </tr>\n",
              "    <tr>\n",
              "      <th>8</th>\n",
              "      <td>59</td>\n",
              "      <td>11</td>\n",
              "    </tr>\n",
              "    <tr>\n",
              "      <th>9</th>\n",
              "      <td>47</td>\n",
              "      <td>9</td>\n",
              "    </tr>\n",
              "    <tr>\n",
              "      <th>10</th>\n",
              "      <td>44</td>\n",
              "      <td>7</td>\n",
              "    </tr>\n",
              "    <tr>\n",
              "      <th>11</th>\n",
              "      <td>57</td>\n",
              "      <td>5</td>\n",
              "    </tr>\n",
              "    <tr>\n",
              "      <th>12</th>\n",
              "      <td>52</td>\n",
              "      <td>13</td>\n",
              "    </tr>\n",
              "    <tr>\n",
              "      <th>13</th>\n",
              "      <td>58</td>\n",
              "      <td>15</td>\n",
              "    </tr>\n",
              "    <tr>\n",
              "      <th>14</th>\n",
              "      <td>59</td>\n",
              "      <td>14</td>\n",
              "    </tr>\n",
              "  </tbody>\n",
              "</table>\n",
              "</div>\n",
              "      <button class=\"colab-df-convert\" onclick=\"convertToInteractive('df-1f0a67cc-1755-43e5-addb-405672a32179')\"\n",
              "              title=\"Convert this dataframe to an interactive table.\"\n",
              "              style=\"display:none;\">\n",
              "        \n",
              "  <svg xmlns=\"http://www.w3.org/2000/svg\" height=\"24px\"viewBox=\"0 0 24 24\"\n",
              "       width=\"24px\">\n",
              "    <path d=\"M0 0h24v24H0V0z\" fill=\"none\"/>\n",
              "    <path d=\"M18.56 5.44l.94 2.06.94-2.06 2.06-.94-2.06-.94-.94-2.06-.94 2.06-2.06.94zm-11 1L8.5 8.5l.94-2.06 2.06-.94-2.06-.94L8.5 2.5l-.94 2.06-2.06.94zm10 10l.94 2.06.94-2.06 2.06-.94-2.06-.94-.94-2.06-.94 2.06-2.06.94z\"/><path d=\"M17.41 7.96l-1.37-1.37c-.4-.4-.92-.59-1.43-.59-.52 0-1.04.2-1.43.59L10.3 9.45l-7.72 7.72c-.78.78-.78 2.05 0 2.83L4 21.41c.39.39.9.59 1.41.59.51 0 1.02-.2 1.41-.59l7.78-7.78 2.81-2.81c.8-.78.8-2.07 0-2.86zM5.41 20L4 18.59l7.72-7.72 1.47 1.35L5.41 20z\"/>\n",
              "  </svg>\n",
              "      </button>\n",
              "      \n",
              "  <style>\n",
              "    .colab-df-container {\n",
              "      display:flex;\n",
              "      flex-wrap:wrap;\n",
              "      gap: 12px;\n",
              "    }\n",
              "\n",
              "    .colab-df-convert {\n",
              "      background-color: #E8F0FE;\n",
              "      border: none;\n",
              "      border-radius: 50%;\n",
              "      cursor: pointer;\n",
              "      display: none;\n",
              "      fill: #1967D2;\n",
              "      height: 32px;\n",
              "      padding: 0 0 0 0;\n",
              "      width: 32px;\n",
              "    }\n",
              "\n",
              "    .colab-df-convert:hover {\n",
              "      background-color: #E2EBFA;\n",
              "      box-shadow: 0px 1px 2px rgba(60, 64, 67, 0.3), 0px 1px 3px 1px rgba(60, 64, 67, 0.15);\n",
              "      fill: #174EA6;\n",
              "    }\n",
              "\n",
              "    [theme=dark] .colab-df-convert {\n",
              "      background-color: #3B4455;\n",
              "      fill: #D2E3FC;\n",
              "    }\n",
              "\n",
              "    [theme=dark] .colab-df-convert:hover {\n",
              "      background-color: #434B5C;\n",
              "      box-shadow: 0px 1px 3px 1px rgba(0, 0, 0, 0.15);\n",
              "      filter: drop-shadow(0px 1px 2px rgba(0, 0, 0, 0.3));\n",
              "      fill: #FFFFFF;\n",
              "    }\n",
              "  </style>\n",
              "\n",
              "      <script>\n",
              "        const buttonEl =\n",
              "          document.querySelector('#df-1f0a67cc-1755-43e5-addb-405672a32179 button.colab-df-convert');\n",
              "        buttonEl.style.display =\n",
              "          google.colab.kernel.accessAllowed ? 'block' : 'none';\n",
              "\n",
              "        async function convertToInteractive(key) {\n",
              "          const element = document.querySelector('#df-1f0a67cc-1755-43e5-addb-405672a32179');\n",
              "          const dataTable =\n",
              "            await google.colab.kernel.invokeFunction('convertToInteractive',\n",
              "                                                     [key], {});\n",
              "          if (!dataTable) return;\n",
              "\n",
              "          const docLinkHtml = 'Like what you see? Visit the ' +\n",
              "            '<a target=\"_blank\" href=https://colab.research.google.com/notebooks/data_table.ipynb>data table notebook</a>'\n",
              "            + ' to learn more about interactive tables.';\n",
              "          element.innerHTML = '';\n",
              "          dataTable['output_type'] = 'display_data';\n",
              "          await google.colab.output.renderOutput(dataTable, element);\n",
              "          const docLink = document.createElement('div');\n",
              "          docLink.innerHTML = docLinkHtml;\n",
              "          element.appendChild(docLink);\n",
              "        }\n",
              "      </script>\n",
              "    </div>\n",
              "  </div>\n",
              "  "
            ]
          },
          "metadata": {},
          "execution_count": 21
        }
      ]
    },
    {
      "cell_type": "code",
      "source": [
        "# cluster vis\n",
        "plt.figure(figsize=(10,6))\n",
        "# =============putting cluster 1\n",
        "plt.scatter(x[y_kmean==0,0],x[y_kmean==0,1] , s = 5 , c ='red', label='C1')\n",
        "# put centroid\n",
        "plt.scatter(25.06451613,  59.48387097 , s = 50 , c ='black', marker='*')\n",
        "# ==============putting cluster 2\n",
        "plt.scatter(x[y_kmean==1,0],x[y_kmean==1,1] , s = 5 , c ='blue', label='C2')\n",
        "# put centroid\n",
        "plt.scatter( 29.53658537,  27.24390244, s = 50 , c ='black', marker='*')\n",
        "# ==============putting cluster 3\n",
        "plt.scatter(x[y_kmean==2,0],x[y_kmean==2,1] , s = 5 , c ='black', label='C3')\n",
        "# put centroid\n",
        "plt.scatter( 36.6       , 109.7 , s = 50 , c ='red', marker='*')\n",
        "# ==============putting cluster 4\n",
        "plt.scatter(x[y_kmean==3,0],x[y_kmean==3,1] , s = 5 , c ='green', label='C4')\n",
        "# put centroid\n",
        "plt.scatter(56.62      ,  48.48 , s = 50 , c ='black', marker='*')\n",
        "# ==============putting cluster 5\n",
        "plt.scatter(x[y_kmean==4,0],x[y_kmean==4,1] , s = 5 , c ='orange', label='C5')\n",
        "# put centroid\n",
        "plt.scatter(38.25862069,  78.15517241 , s = 50 , c ='black', marker='*')\n",
        "\n",
        "plt.xlabel('Age')\n",
        "plt.ylabel('Spending Score')\n",
        "plt.legend()\n",
        "plt.show()"
      ],
      "metadata": {
        "colab": {
          "base_uri": "https://localhost:8080/",
          "height": 388
        },
        "id": "e_CM_3ikHtXk",
        "outputId": "c907f26d-76e6-4cbf-e468-4062499a2c47"
      },
      "execution_count": null,
      "outputs": [
        {
          "output_type": "display_data",
          "data": {
            "text/plain": [
              "<Figure size 720x432 with 1 Axes>"
            ],
            "image/png": "[encoded data removed]"
          },
          "metadata": {
            "needs_background": "light"
          }
        }
      ]
    },
    {
      "cell_type": "code",
      "source": [
        "# conclusion : in Cluster 1 we found some persons whose Age between 35 to 57\n",
        "# thet have Spending Score between 20 to 40\n",
        "\n",
        "\n",
        "# conclusion : in Cluster 2 we found some persons whose Age between 20 to 40\n",
        "# thet have Spending Score between 65 to 80\n",
        "\n",
        "# conclusion : in Cluster 3 we found some persons whose Age between 56 to 70\n",
        "# thet have Spending Score between 35 to 60\n",
        "\n",
        "# conclusion : in Cluster 4 we found some persons whose Age between 10 to 35\n",
        "# thet have Spending Score between 35 to 65\n",
        "\n",
        "# conclusion : in Cluster 5 we found some persons whose Age between 31 to 59\n",
        "# thet have Spending Score between 5 to 20"
      ],
      "metadata": {
        "id": "covL94SRH47X"
      },
      "execution_count": null,
      "outputs": []
    },
    {
      "cell_type": "code",
      "source": [
        "# original shape\n",
        "plt.figure(figsize=(10,6))\n",
        "plt.scatter(x[:,0] ,x[:,1],s=5) # x[:,0] = age column , x[:,1]= annual income\n",
        "plt.xlabel('Age')\n",
        "plt.ylabel('Spending Score')\n",
        "plt.show()"
      ],
      "metadata": {
        "colab": {
          "base_uri": "https://localhost:8080/",
          "height": 388
        },
        "id": "DBMtDGmOH4-q",
        "outputId": "f3a8cb84-dbaa-4d9a-bc71-ac640df2dfae"
      },
      "execution_count": null,
      "outputs": [
        {
          "output_type": "display_data",
          "data": {
            "text/plain": [
              "<Figure size 720x432 with 1 Axes>"
            ],
            "image/png": "[encoded data removed]"
          },
          "metadata": {
            "needs_background": "light"
          }
        }
      ]
    }
  ]
}