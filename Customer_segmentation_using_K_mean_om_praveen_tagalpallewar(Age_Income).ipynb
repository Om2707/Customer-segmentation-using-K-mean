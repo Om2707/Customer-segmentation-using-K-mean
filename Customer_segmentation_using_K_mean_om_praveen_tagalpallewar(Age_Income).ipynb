{
  "nbformat": 4,
  "nbformat_minor": 0,
  "metadata": {
    "colab": {
      "provenance": [],
      "mount_file_id": "1-MjRynbJRzmcJIIeXQQVZVDTlRAIWKTy",
      "authorship_tag": "ABX9TyMF4DCxs6UK54SIylwMuCSW",
      "include_colab_link": true
    },
    "kernelspec": {
      "name": "python3",
      "display_name": "Python 3"
    },
    "language_info": {
      "name": "python"
    }
  },
  "cells": [
    {
      "cell_type": "markdown",
      "metadata": {
        "id": "view-in-github",
        "colab_type": "text"
      },
      "source": [
        "<a href=\"https://colab.research.google.com/github/Om2707/Customer-segmentation-using-K-mean/blob/main/Customer_segmentation_using_K_mean_om_praveen_tagalpallewar(Age_Income).ipynb\" target=\"_parent\"><img src=\"https://colab.research.google.com/assets/colab-badge.svg\" alt=\"Open In Colab\"/></a>"
      ]
    },
    {
      "cell_type": "code",
      "execution_count": null,
      "metadata": {
        "id": "OtncUiEnEHfd"
      },
      "outputs": [],
      "source": [
        "import numpy as np\n",
        "import pandas as pd\n",
        "import matplotlib.pyplot as plt\n",
        "import seaborn as sns\n",
        "import warnings\n",
        "warnings.filterwarnings('ignore')"
      ]
    },
    {
      "cell_type": "code",
      "source": [
        "df=pd.read_csv('/content/drive/MyDrive/Customer Segmentation/Mall_Customers.csv')\n",
        "df.head()"
      ],
      "metadata": {
        "colab": {
          "base_uri": "https://localhost:8080/",
          "height": 206
        },
        "id": "JEMReVyMEKm7",
        "outputId": "e9d33184-daa2-4ed5-ffee-9a61328b85f1"
      },
      "execution_count": null,
      "outputs": [
        {
          "output_type": "execute_result",
          "data": {
            "text/plain": [
              "   CustomerID   Genre  Age  Annual Income (k$)  Spending Score (1-100)\n",
              "0           1    Male   19                  15                      39\n",
              "1           2    Male   21                  15                      81\n",
              "2           3  Female   20                  16                       6\n",
              "3           4  Female   23                  16                      77\n",
              "4           5  Female   31                  17                      40"
            ],
            "text/html": [
              "\n",
              "  <div id=\"df-f8c691d7-5772-47bf-9a61-aff00dd54e57\">\n",
              "    <div class=\"colab-df-container\">\n",
              "      <div>\n",
              "<style scoped>\n",
              "    .dataframe tbody tr th:only-of-type {\n",
              "        vertical-align: middle;\n",
              "    }\n",
              "\n",
              "    .dataframe tbody tr th {\n",
              "        vertical-align: top;\n",
              "    }\n",
              "\n",
              "    .dataframe thead th {\n",
              "        text-align: right;\n",
              "    }\n",
              "</style>\n",
              "<table border=\"1\" class=\"dataframe\">\n",
              "  <thead>\n",
              "    <tr style=\"text-align: right;\">\n",
              "      <th></th>\n",
              "      <th>CustomerID</th>\n",
              "      <th>Genre</th>\n",
              "      <th>Age</th>\n",
              "      <th>Annual Income (k$)</th>\n",
              "      <th>Spending Score (1-100)</th>\n",
              "    </tr>\n",
              "  </thead>\n",
              "  <tbody>\n",
              "    <tr>\n",
              "      <th>0</th>\n",
              "      <td>1</td>\n",
              "      <td>Male</td>\n",
              "      <td>19</td>\n",
              "      <td>15</td>\n",
              "      <td>39</td>\n",
              "    </tr>\n",
              "    <tr>\n",
              "      <th>1</th>\n",
              "      <td>2</td>\n",
              "      <td>Male</td>\n",
              "      <td>21</td>\n",
              "      <td>15</td>\n",
              "      <td>81</td>\n",
              "    </tr>\n",
              "    <tr>\n",
              "      <th>2</th>\n",
              "      <td>3</td>\n",
              "      <td>Female</td>\n",
              "      <td>20</td>\n",
              "      <td>16</td>\n",
              "      <td>6</td>\n",
              "    </tr>\n",
              "    <tr>\n",
              "      <th>3</th>\n",
              "      <td>4</td>\n",
              "      <td>Female</td>\n",
              "      <td>23</td>\n",
              "      <td>16</td>\n",
              "      <td>77</td>\n",
              "    </tr>\n",
              "    <tr>\n",
              "      <th>4</th>\n",
              "      <td>5</td>\n",
              "      <td>Female</td>\n",
              "      <td>31</td>\n",
              "      <td>17</td>\n",
              "      <td>40</td>\n",
              "    </tr>\n",
              "  </tbody>\n",
              "</table>\n",
              "</div>\n",
              "      <button class=\"colab-df-convert\" onclick=\"convertToInteractive('df-f8c691d7-5772-47bf-9a61-aff00dd54e57')\"\n",
              "              title=\"Convert this dataframe to an interactive table.\"\n",
              "              style=\"display:none;\">\n",
              "        \n",
              "  <svg xmlns=\"http://www.w3.org/2000/svg\" height=\"24px\"viewBox=\"0 0 24 24\"\n",
              "       width=\"24px\">\n",
              "    <path d=\"M0 0h24v24H0V0z\" fill=\"none\"/>\n",
              "    <path d=\"M18.56 5.44l.94 2.06.94-2.06 2.06-.94-2.06-.94-.94-2.06-.94 2.06-2.06.94zm-11 1L8.5 8.5l.94-2.06 2.06-.94-2.06-.94L8.5 2.5l-.94 2.06-2.06.94zm10 10l.94 2.06.94-2.06 2.06-.94-2.06-.94-.94-2.06-.94 2.06-2.06.94z\"/><path d=\"M17.41 7.96l-1.37-1.37c-.4-.4-.92-.59-1.43-.59-.52 0-1.04.2-1.43.59L10.3 9.45l-7.72 7.72c-.78.78-.78 2.05 0 2.83L4 21.41c.39.39.9.59 1.41.59.51 0 1.02-.2 1.41-.59l7.78-7.78 2.81-2.81c.8-.78.8-2.07 0-2.86zM5.41 20L4 18.59l7.72-7.72 1.47 1.35L5.41 20z\"/>\n",
              "  </svg>\n",
              "      </button>\n",
              "      \n",
              "  <style>\n",
              "    .colab-df-container {\n",
              "      display:flex;\n",
              "      flex-wrap:wrap;\n",
              "      gap: 12px;\n",
              "    }\n",
              "\n",
              "    .colab-df-convert {\n",
              "      background-color: #E8F0FE;\n",
              "      border: none;\n",
              "      border-radius: 50%;\n",
              "      cursor: pointer;\n",
              "      display: none;\n",
              "      fill: #1967D2;\n",
              "      height: 32px;\n",
              "      padding: 0 0 0 0;\n",
              "      width: 32px;\n",
              "    }\n",
              "\n",
              "    .colab-df-convert:hover {\n",
              "      background-color: #E2EBFA;\n",
              "      box-shadow: 0px 1px 2px rgba(60, 64, 67, 0.3), 0px 1px 3px 1px rgba(60, 64, 67, 0.15);\n",
              "      fill: #174EA6;\n",
              "    }\n",
              "\n",
              "    [theme=dark] .colab-df-convert {\n",
              "      background-color: #3B4455;\n",
              "      fill: #D2E3FC;\n",
              "    }\n",
              "\n",
              "    [theme=dark] .colab-df-convert:hover {\n",
              "      background-color: #434B5C;\n",
              "      box-shadow: 0px 1px 3px 1px rgba(0, 0, 0, 0.15);\n",
              "      filter: drop-shadow(0px 1px 2px rgba(0, 0, 0, 0.3));\n",
              "      fill: #FFFFFF;\n",
              "    }\n",
              "  </style>\n",
              "\n",
              "      <script>\n",
              "        const buttonEl =\n",
              "          document.querySelector('#df-f8c691d7-5772-47bf-9a61-aff00dd54e57 button.colab-df-convert');\n",
              "        buttonEl.style.display =\n",
              "          google.colab.kernel.accessAllowed ? 'block' : 'none';\n",
              "\n",
              "        async function convertToInteractive(key) {\n",
              "          const element = document.querySelector('#df-f8c691d7-5772-47bf-9a61-aff00dd54e57');\n",
              "          const dataTable =\n",
              "            await google.colab.kernel.invokeFunction('convertToInteractive',\n",
              "                                                     [key], {});\n",
              "          if (!dataTable) return;\n",
              "\n",
              "          const docLinkHtml = 'Like what you see? Visit the ' +\n",
              "            '<a target=\"_blank\" href=https://colab.research.google.com/notebooks/data_table.ipynb>data table notebook</a>'\n",
              "            + ' to learn more about interactive tables.';\n",
              "          element.innerHTML = '';\n",
              "          dataTable['output_type'] = 'display_data';\n",
              "          await google.colab.output.renderOutput(dataTable, element);\n",
              "          const docLink = document.createElement('div');\n",
              "          docLink.innerHTML = docLinkHtml;\n",
              "          element.appendChild(docLink);\n",
              "        }\n",
              "      </script>\n",
              "    </div>\n",
              "  </div>\n",
              "  "
            ]
          },
          "metadata": {},
          "execution_count": 3
        }
      ]
    },
    {
      "cell_type": "code",
      "source": [
        "# we will apply the K-mean clustering between Age and Annual income"
      ],
      "metadata": {
        "id": "IgVlz9iBEfKY"
      },
      "execution_count": null,
      "outputs": []
    },
    {
      "cell_type": "code",
      "source": [
        "# since here is all , just because unlabelled data\n",
        "# i need to convert data in numpy matrix\n",
        "x = df[['Age',\t'Annual Income (k$)']].values\n",
        "x"
      ],
      "metadata": {
        "colab": {
          "base_uri": "https://localhost:8080/"
        },
        "id": "5Bhh5bY4EkNu",
        "outputId": "4475c356-8479-47b9-a03c-d1e410c43d55"
      },
      "execution_count": null,
      "outputs": [
        {
          "output_type": "execute_result",
          "data": {
            "text/plain": [
              "array([[ 19,  15],\n",
              "       [ 21,  15],\n",
              "       [ 20,  16],\n",
              "       [ 23,  16],\n",
              "       [ 31,  17],\n",
              "       [ 22,  17],\n",
              "       [ 35,  18],\n",
              "       [ 23,  18],\n",
              "       [ 64,  19],\n",
              "       [ 30,  19],\n",
              "       [ 67,  19],\n",
              "       [ 35,  19],\n",
              "       [ 58,  20],\n",
              "       [ 24,  20],\n",
              "       [ 37,  20],\n",
              "       [ 22,  20],\n",
              "       [ 35,  21],\n",
              "       [ 20,  21],\n",
              "       [ 52,  23],\n",
              "       [ 35,  23],\n",
              "       [ 35,  24],\n",
              "       [ 25,  24],\n",
              "       [ 46,  25],\n",
              "       [ 31,  25],\n",
              "       [ 54,  28],\n",
              "       [ 29,  28],\n",
              "       [ 45,  28],\n",
              "       [ 35,  28],\n",
              "       [ 40,  29],\n",
              "       [ 23,  29],\n",
              "       [ 60,  30],\n",
              "       [ 21,  30],\n",
              "       [ 53,  33],\n",
              "       [ 18,  33],\n",
              "       [ 49,  33],\n",
              "       [ 21,  33],\n",
              "       [ 42,  34],\n",
              "       [ 30,  34],\n",
              "       [ 36,  37],\n",
              "       [ 20,  37],\n",
              "       [ 65,  38],\n",
              "       [ 24,  38],\n",
              "       [ 48,  39],\n",
              "       [ 31,  39],\n",
              "       [ 49,  39],\n",
              "       [ 24,  39],\n",
              "       [ 50,  40],\n",
              "       [ 27,  40],\n",
              "       [ 29,  40],\n",
              "       [ 31,  40],\n",
              "       [ 49,  42],\n",
              "       [ 33,  42],\n",
              "       [ 31,  43],\n",
              "       [ 59,  43],\n",
              "       [ 50,  43],\n",
              "       [ 47,  43],\n",
              "       [ 51,  44],\n",
              "       [ 69,  44],\n",
              "       [ 27,  46],\n",
              "       [ 53,  46],\n",
              "       [ 70,  46],\n",
              "       [ 19,  46],\n",
              "       [ 67,  47],\n",
              "       [ 54,  47],\n",
              "       [ 63,  48],\n",
              "       [ 18,  48],\n",
              "       [ 43,  48],\n",
              "       [ 68,  48],\n",
              "       [ 19,  48],\n",
              "       [ 32,  48],\n",
              "       [ 70,  49],\n",
              "       [ 47,  49],\n",
              "       [ 60,  50],\n",
              "       [ 60,  50],\n",
              "       [ 59,  54],\n",
              "       [ 26,  54],\n",
              "       [ 45,  54],\n",
              "       [ 40,  54],\n",
              "       [ 23,  54],\n",
              "       [ 49,  54],\n",
              "       [ 57,  54],\n",
              "       [ 38,  54],\n",
              "       [ 67,  54],\n",
              "       [ 46,  54],\n",
              "       [ 21,  54],\n",
              "       [ 48,  54],\n",
              "       [ 55,  57],\n",
              "       [ 22,  57],\n",
              "       [ 34,  58],\n",
              "       [ 50,  58],\n",
              "       [ 68,  59],\n",
              "       [ 18,  59],\n",
              "       [ 48,  60],\n",
              "       [ 40,  60],\n",
              "       [ 32,  60],\n",
              "       [ 24,  60],\n",
              "       [ 47,  60],\n",
              "       [ 27,  60],\n",
              "       [ 48,  61],\n",
              "       [ 20,  61],\n",
              "       [ 23,  62],\n",
              "       [ 49,  62],\n",
              "       [ 67,  62],\n",
              "       [ 26,  62],\n",
              "       [ 49,  62],\n",
              "       [ 21,  62],\n",
              "       [ 66,  63],\n",
              "       [ 54,  63],\n",
              "       [ 68,  63],\n",
              "       [ 66,  63],\n",
              "       [ 65,  63],\n",
              "       [ 19,  63],\n",
              "       [ 38,  64],\n",
              "       [ 19,  64],\n",
              "       [ 18,  65],\n",
              "       [ 19,  65],\n",
              "       [ 63,  65],\n",
              "       [ 49,  65],\n",
              "       [ 51,  67],\n",
              "       [ 50,  67],\n",
              "       [ 27,  67],\n",
              "       [ 38,  67],\n",
              "       [ 40,  69],\n",
              "       [ 39,  69],\n",
              "       [ 23,  70],\n",
              "       [ 31,  70],\n",
              "       [ 43,  71],\n",
              "       [ 40,  71],\n",
              "       [ 59,  71],\n",
              "       [ 38,  71],\n",
              "       [ 47,  71],\n",
              "       [ 39,  71],\n",
              "       [ 25,  72],\n",
              "       [ 31,  72],\n",
              "       [ 20,  73],\n",
              "       [ 29,  73],\n",
              "       [ 44,  73],\n",
              "       [ 32,  73],\n",
              "       [ 19,  74],\n",
              "       [ 35,  74],\n",
              "       [ 57,  75],\n",
              "       [ 32,  75],\n",
              "       [ 28,  76],\n",
              "       [ 32,  76],\n",
              "       [ 25,  77],\n",
              "       [ 28,  77],\n",
              "       [ 48,  77],\n",
              "       [ 32,  77],\n",
              "       [ 34,  78],\n",
              "       [ 34,  78],\n",
              "       [ 43,  78],\n",
              "       [ 39,  78],\n",
              "       [ 44,  78],\n",
              "       [ 38,  78],\n",
              "       [ 47,  78],\n",
              "       [ 27,  78],\n",
              "       [ 37,  78],\n",
              "       [ 30,  78],\n",
              "       [ 34,  78],\n",
              "       [ 30,  78],\n",
              "       [ 56,  79],\n",
              "       [ 29,  79],\n",
              "       [ 19,  81],\n",
              "       [ 31,  81],\n",
              "       [ 50,  85],\n",
              "       [ 36,  85],\n",
              "       [ 42,  86],\n",
              "       [ 33,  86],\n",
              "       [ 36,  87],\n",
              "       [ 32,  87],\n",
              "       [ 40,  87],\n",
              "       [ 28,  87],\n",
              "       [ 36,  87],\n",
              "       [ 36,  87],\n",
              "       [ 52,  88],\n",
              "       [ 30,  88],\n",
              "       [ 58,  88],\n",
              "       [ 27,  88],\n",
              "       [ 59,  93],\n",
              "       [ 35,  93],\n",
              "       [ 37,  97],\n",
              "       [ 32,  97],\n",
              "       [ 46,  98],\n",
              "       [ 29,  98],\n",
              "       [ 41,  99],\n",
              "       [ 30,  99],\n",
              "       [ 54, 101],\n",
              "       [ 28, 101],\n",
              "       [ 41, 103],\n",
              "       [ 36, 103],\n",
              "       [ 34, 103],\n",
              "       [ 32, 103],\n",
              "       [ 33, 113],\n",
              "       [ 38, 113],\n",
              "       [ 47, 120],\n",
              "       [ 35, 120],\n",
              "       [ 45, 126],\n",
              "       [ 32, 126],\n",
              "       [ 32, 137],\n",
              "       [ 30, 137]])"
            ]
          },
          "metadata": {},
          "execution_count": 5
        }
      ]
    },
    {
      "cell_type": "code",
      "source": [
        "# plot the data points || original shape\n",
        "plt.figure(figsize=(10,6))\n",
        "plt.scatter(x[:,0] ,x[:,1],s=5) # x[:,0] = age column , x[:,1]= annual income\n",
        "plt.xlabel('Age')\n",
        "plt.ylabel('Annual Income')\n",
        "plt.show()"
      ],
      "metadata": {
        "colab": {
          "base_uri": "https://localhost:8080/",
          "height": 388
        },
        "id": "Qyp75KcnEpuu",
        "outputId": "3e316884-79a1-439b-c1d9-197ca42bb2bb"
      },
      "execution_count": null,
      "outputs": [
        {
          "output_type": "display_data",
          "data": {
            "text/plain": [
              "<Figure size 720x432 with 1 Axes>"
            ],
            "image/png": "[encoded data removed]"
          },
          "metadata": {
            "needs_background": "light"
          }
        }
      ]
    },
    {
      "cell_type": "code",
      "source": [
        "# apply algorithm\n",
        "# load algorithm\n",
        "from sklearn.cluster import KMeans"
      ],
      "metadata": {
        "id": "cBLWKCFFEpxu"
      },
      "execution_count": null,
      "outputs": []
    },
    {
      "cell_type": "code",
      "source": [
        "model = KMeans()\n",
        "model.fit(x) # only features data"
      ],
      "metadata": {
        "colab": {
          "base_uri": "https://localhost:8080/"
        },
        "id": "AoTQDnhUEp0X",
        "outputId": "9e46aff8-6ae1-43b1-8918-705038ef7907"
      },
      "execution_count": null,
      "outputs": [
        {
          "output_type": "execute_result",
          "data": {
            "text/plain": [
              "KMeans()"
            ]
          },
          "metadata": {},
          "execution_count": 8
        }
      ]
    },
    {
      "cell_type": "code",
      "source": [
        "# how many cluster create by model by default\n",
        "model.n_clusters"
      ],
      "metadata": {
        "colab": {
          "base_uri": "https://localhost:8080/"
        },
        "id": "_u8zqwZcEp3I",
        "outputId": "97e30e2c-1786-4e98-b667-4edceff6eaf8"
      },
      "execution_count": null,
      "outputs": [
        {
          "output_type": "execute_result",
          "data": {
            "text/plain": [
              "8"
            ]
          },
          "metadata": {},
          "execution_count": 9
        }
      ]
    },
    {
      "cell_type": "code",
      "source": [
        "# wcss(error) || technical term inertia\n",
        "model.inertia_"
      ],
      "metadata": {
        "colab": {
          "base_uri": "https://localhost:8080/"
        },
        "id": "gQrFwqcjEp6Y",
        "outputId": "4dd3a05c-70fa-45d1-f762-c790a53abda8"
      },
      "execution_count": null,
      "outputs": [
        {
          "output_type": "execute_result",
          "data": {
            "text/plain": [
              "18808.749269005843"
            ]
          },
          "metadata": {},
          "execution_count": 10
        }
      ]
    },
    {
      "cell_type": "code",
      "source": [
        "round(model.inertia_)"
      ],
      "metadata": {
        "colab": {
          "base_uri": "https://localhost:8080/"
        },
        "id": "XLFmelKeEp99",
        "outputId": "cd8f3f94-063e-43b5-993b-bc263ee0d9c8"
      },
      "execution_count": null,
      "outputs": [
        {
          "output_type": "execute_result",
          "data": {
            "text/plain": [
              "18809"
            ]
          },
          "metadata": {},
          "execution_count": 11
        }
      ]
    },
    {
      "cell_type": "code",
      "source": [
        "# before getting the prediction ( we got cluster id)\n",
        "# we need to performe optimal number of cluster\n",
        "# Elbow method\n",
        "err=[]\n",
        "for i in range(1,11):\n",
        "  model1 = KMeans(n_clusters=i)\n",
        "  model1.fit(x) # only features data\n",
        "  print('Cluster number ->', i , '  || Error ->', round(model1.inertia_))\n",
        "  # store the error in list err\n",
        "  err.append(round(model1.inertia_))"
      ],
      "metadata": {
        "colab": {
          "base_uri": "https://localhost:8080/"
        },
        "id": "etXgR65xE8Do",
        "outputId": "6250e971-1291-461d-bfb0-c9343c229056"
      },
      "execution_count": null,
      "outputs": [
        {
          "output_type": "stream",
          "name": "stdout",
          "text": [
            "Cluster number -> 1   || Error -> 176109\n",
            "Cluster number -> 2   || Error -> 87122\n",
            "Cluster number -> 3   || Error -> 59487\n",
            "Cluster number -> 4   || Error -> 39530\n",
            "Cluster number -> 5   || Error -> 31726\n",
            "Cluster number -> 6   || Error -> 25416\n",
            "Cluster number -> 7   || Error -> 22091\n",
            "Cluster number -> 8   || Error -> 18806\n",
            "Cluster number -> 9   || Error -> 16148\n",
            "Cluster number -> 10   || Error -> 13707\n"
          ]
        }
      ]
    },
    {
      "cell_type": "code",
      "source": [
        "# Plot the elbow\n",
        "plt.plot(range(1,11), err)\n",
        "plt.scatter(range(1,11), err, marker='o', c='green', s=50)\n",
        "plt.xlabel('K- value')\n",
        "plt.ylabel('Error')\n",
        "plt.show()"
      ],
      "metadata": {
        "colab": {
          "base_uri": "https://localhost:8080/",
          "height": 279
        },
        "id": "yL6fIEPgE8GZ",
        "outputId": "a9771c27-d1cd-4701-e0ab-0c7c2d91608c"
      },
      "execution_count": null,
      "outputs": [
        {
          "output_type": "display_data",
          "data": {
            "text/plain": [
              "<Figure size 432x288 with 1 Axes>"
            ],
            "image/png": "[encoded data removed]"
          },
          "metadata": {
            "needs_background": "light"
          }
        }
      ]
    },
    {
      "cell_type": "code",
      "source": [
        "# we decided k= 5 will good for us\n",
        "# we are building model with k= 5\n",
        "model2 = KMeans(n_clusters=5)\n",
        "model2.fit(x)\n",
        "# get pridiction\n",
        "y_kmean = model2.predict(x)  #  y_kmean = pred"
      ],
      "metadata": {
        "id": "flJPAmg9E8JQ"
      },
      "execution_count": null,
      "outputs": []
    },
    {
      "cell_type": "code",
      "source": [
        "y_kmean"
      ],
      "metadata": {
        "colab": {
          "base_uri": "https://localhost:8080/"
        },
        "id": "jXXxJvzNE8MS",
        "outputId": "3bebe5ce-33a9-4bd5-cee5-3e580403678b"
      },
      "execution_count": null,
      "outputs": [
        {
          "output_type": "execute_result",
          "data": {
            "text/plain": [
              "array([0, 0, 0, 0, 0, 0, 0, 0, 3, 0, 3, 0, 3, 0, 0, 0, 0, 0, 0, 0, 0, 0,\n",
              "       0, 0, 3, 0, 0, 0, 0, 0, 3, 0, 3, 0, 3, 0, 0, 0, 0, 0, 3, 0, 3, 0,\n",
              "       3, 0, 3, 0, 0, 0, 3, 0, 0, 3, 3, 3, 3, 3, 1, 3, 3, 1, 3, 3, 3, 1,\n",
              "       3, 3, 1, 1, 3, 3, 3, 3, 3, 1, 3, 1, 1, 3, 3, 1, 3, 3, 1, 3, 3, 1,\n",
              "       1, 3, 3, 1, 3, 1, 1, 1, 3, 1, 3, 1, 1, 3, 3, 1, 3, 1, 3, 3, 3, 3,\n",
              "       3, 1, 1, 1, 1, 1, 3, 2, 2, 2, 1, 2, 2, 2, 1, 2, 2, 2, 2, 2, 2, 2,\n",
              "       1, 2, 1, 2, 2, 2, 1, 2, 2, 2, 2, 2, 2, 2, 2, 2, 2, 2, 2, 2, 2, 2,\n",
              "       2, 2, 2, 2, 2, 2, 2, 2, 2, 2, 2, 2, 2, 2, 2, 2, 2, 2, 2, 2, 2, 2,\n",
              "       2, 2, 2, 2, 4, 4, 4, 4, 4, 4, 4, 4, 4, 4, 4, 4, 4, 4, 4, 4, 4, 4,\n",
              "       4, 4], dtype=int32)"
            ]
          },
          "metadata": {},
          "execution_count": 15
        }
      ]
    },
    {
      "cell_type": "code",
      "source": [
        "# centroid coordinate\n",
        "model2.cluster_centers_"
      ],
      "metadata": {
        "colab": {
          "base_uri": "https://localhost:8080/"
        },
        "id": "dcwGP_7rE8P3",
        "outputId": "24f1c791-e4b2-4105-8717-e389c93d585a"
      },
      "execution_count": null,
      "outputs": [
        {
          "output_type": "execute_result",
          "data": {
            "text/plain": [
              "array([[ 29.53658537,  27.24390244],\n",
              "       [ 25.06451613,  59.48387097],\n",
              "       [ 38.25862069,  78.15517241],\n",
              "       [ 56.62      ,  48.48      ],\n",
              "       [ 36.6       , 109.7       ]])"
            ]
          },
          "metadata": {},
          "execution_count": 16
        }
      ]
    },
    {
      "cell_type": "code",
      "source": [
        "# challenge , How to print data point which in clusetr 0 ,1,2,3,4"
      ],
      "metadata": {
        "id": "dqBgKRW1FK7M"
      },
      "execution_count": null,
      "outputs": []
    },
    {
      "cell_type": "code",
      "source": [
        "# datapoints which goes to cluster id =0 || cluster 1\n",
        "temp_age = x[y_kmean==0,0] # feature[cluster id , feature 1] here feature is age"
      ],
      "metadata": {
        "id": "0ftYOxS2FK-T"
      },
      "execution_count": null,
      "outputs": []
    },
    {
      "cell_type": "code",
      "source": [
        "temp_age"
      ],
      "metadata": {
        "colab": {
          "base_uri": "https://localhost:8080/"
        },
        "id": "xv-y-HL-FLBu",
        "outputId": "dba00dd2-0fb5-4476-bf6f-e7baa0bb7979"
      },
      "execution_count": null,
      "outputs": [
        {
          "output_type": "execute_result",
          "data": {
            "text/plain": [
              "array([19, 21, 20, 23, 31, 22, 35, 23, 30, 35, 24, 37, 22, 35, 20, 52, 35,\n",
              "       35, 25, 46, 31, 29, 45, 35, 40, 23, 21, 18, 21, 42, 30, 36, 20, 24,\n",
              "       31, 24, 27, 29, 31, 33, 31])"
            ]
          },
          "metadata": {},
          "execution_count": 19
        }
      ]
    },
    {
      "cell_type": "code",
      "source": [
        "temp_income = x[y_kmean==0,1] # feature[cluster id , feature 2] here feature is income"
      ],
      "metadata": {
        "id": "L4s4CPgVFLFG"
      },
      "execution_count": null,
      "outputs": []
    },
    {
      "cell_type": "code",
      "source": [
        "temp_income"
      ],
      "metadata": {
        "colab": {
          "base_uri": "https://localhost:8080/"
        },
        "id": "wllXOMfYFk5N",
        "outputId": "283f670e-57ce-4046-ac65-96a9530648d5"
      },
      "execution_count": null,
      "outputs": [
        {
          "output_type": "execute_result",
          "data": {
            "text/plain": [
              "array([15, 15, 16, 16, 17, 17, 18, 18, 19, 19, 20, 20, 20, 21, 21, 23, 23,\n",
              "       24, 24, 25, 25, 28, 28, 28, 29, 29, 30, 33, 33, 34, 34, 37, 37, 38,\n",
              "       39, 39, 40, 40, 40, 42, 43])"
            ]
          },
          "metadata": {},
          "execution_count": 22
        }
      ]
    },
    {
      "cell_type": "code",
      "source": [
        "# tabular representation\n",
        "cluster_1 = pd.DataFrame({'Age' :temp_age , 'Income' : temp_income })\n",
        "cluster_1"
      ],
      "metadata": {
        "colab": {
          "base_uri": "https://localhost:8080/",
          "height": 1335
        },
        "id": "NziWQX-LFLIO",
        "outputId": "25a7a78a-b66f-4932-fd48-d2e2eb1a1362"
      },
      "execution_count": null,
      "outputs": [
        {
          "output_type": "execute_result",
          "data": {
            "text/plain": [
              "    Age  Income\n",
              "0    19      15\n",
              "1    21      15\n",
              "2    20      16\n",
              "3    23      16\n",
              "4    31      17\n",
              "5    22      17\n",
              "6    35      18\n",
              "7    23      18\n",
              "8    30      19\n",
              "9    35      19\n",
              "10   24      20\n",
              "11   37      20\n",
              "12   22      20\n",
              "13   35      21\n",
              "14   20      21\n",
              "15   52      23\n",
              "16   35      23\n",
              "17   35      24\n",
              "18   25      24\n",
              "19   46      25\n",
              "20   31      25\n",
              "21   29      28\n",
              "22   45      28\n",
              "23   35      28\n",
              "24   40      29\n",
              "25   23      29\n",
              "26   21      30\n",
              "27   18      33\n",
              "28   21      33\n",
              "29   42      34\n",
              "30   30      34\n",
              "31   36      37\n",
              "32   20      37\n",
              "33   24      38\n",
              "34   31      39\n",
              "35   24      39\n",
              "36   27      40\n",
              "37   29      40\n",
              "38   31      40\n",
              "39   33      42\n",
              "40   31      43"
            ],
            "text/html": [
              "\n",
              "  <div id=\"df-966377bf-4e21-4816-8e1a-8f04dd64bea4\">\n",
              "    <div class=\"colab-df-container\">\n",
              "      <div>\n",
              "<style scoped>\n",
              "    .dataframe tbody tr th:only-of-type {\n",
              "        vertical-align: middle;\n",
              "    }\n",
              "\n",
              "    .dataframe tbody tr th {\n",
              "        vertical-align: top;\n",
              "    }\n",
              "\n",
              "    .dataframe thead th {\n",
              "        text-align: right;\n",
              "    }\n",
              "</style>\n",
              "<table border=\"1\" class=\"dataframe\">\n",
              "  <thead>\n",
              "    <tr style=\"text-align: right;\">\n",
              "      <th></th>\n",
              "      <th>Age</th>\n",
              "      <th>Income</th>\n",
              "    </tr>\n",
              "  </thead>\n",
              "  <tbody>\n",
              "    <tr>\n",
              "      <th>0</th>\n",
              "      <td>19</td>\n",
              "      <td>15</td>\n",
              "    </tr>\n",
              "    <tr>\n",
              "      <th>1</th>\n",
              "      <td>21</td>\n",
              "      <td>15</td>\n",
              "    </tr>\n",
              "    <tr>\n",
              "      <th>2</th>\n",
              "      <td>20</td>\n",
              "      <td>16</td>\n",
              "    </tr>\n",
              "    <tr>\n",
              "      <th>3</th>\n",
              "      <td>23</td>\n",
              "      <td>16</td>\n",
              "    </tr>\n",
              "    <tr>\n",
              "      <th>4</th>\n",
              "      <td>31</td>\n",
              "      <td>17</td>\n",
              "    </tr>\n",
              "    <tr>\n",
              "      <th>5</th>\n",
              "      <td>22</td>\n",
              "      <td>17</td>\n",
              "    </tr>\n",
              "    <tr>\n",
              "      <th>6</th>\n",
              "      <td>35</td>\n",
              "      <td>18</td>\n",
              "    </tr>\n",
              "    <tr>\n",
              "      <th>7</th>\n",
              "      <td>23</td>\n",
              "      <td>18</td>\n",
              "    </tr>\n",
              "    <tr>\n",
              "      <th>8</th>\n",
              "      <td>30</td>\n",
              "      <td>19</td>\n",
              "    </tr>\n",
              "    <tr>\n",
              "      <th>9</th>\n",
              "      <td>35</td>\n",
              "      <td>19</td>\n",
              "    </tr>\n",
              "    <tr>\n",
              "      <th>10</th>\n",
              "      <td>24</td>\n",
              "      <td>20</td>\n",
              "    </tr>\n",
              "    <tr>\n",
              "      <th>11</th>\n",
              "      <td>37</td>\n",
              "      <td>20</td>\n",
              "    </tr>\n",
              "    <tr>\n",
              "      <th>12</th>\n",
              "      <td>22</td>\n",
              "      <td>20</td>\n",
              "    </tr>\n",
              "    <tr>\n",
              "      <th>13</th>\n",
              "      <td>35</td>\n",
              "      <td>21</td>\n",
              "    </tr>\n",
              "    <tr>\n",
              "      <th>14</th>\n",
              "      <td>20</td>\n",
              "      <td>21</td>\n",
              "    </tr>\n",
              "    <tr>\n",
              "      <th>15</th>\n",
              "      <td>52</td>\n",
              "      <td>23</td>\n",
              "    </tr>\n",
              "    <tr>\n",
              "      <th>16</th>\n",
              "      <td>35</td>\n",
              "      <td>23</td>\n",
              "    </tr>\n",
              "    <tr>\n",
              "      <th>17</th>\n",
              "      <td>35</td>\n",
              "      <td>24</td>\n",
              "    </tr>\n",
              "    <tr>\n",
              "      <th>18</th>\n",
              "      <td>25</td>\n",
              "      <td>24</td>\n",
              "    </tr>\n",
              "    <tr>\n",
              "      <th>19</th>\n",
              "      <td>46</td>\n",
              "      <td>25</td>\n",
              "    </tr>\n",
              "    <tr>\n",
              "      <th>20</th>\n",
              "      <td>31</td>\n",
              "      <td>25</td>\n",
              "    </tr>\n",
              "    <tr>\n",
              "      <th>21</th>\n",
              "      <td>29</td>\n",
              "      <td>28</td>\n",
              "    </tr>\n",
              "    <tr>\n",
              "      <th>22</th>\n",
              "      <td>45</td>\n",
              "      <td>28</td>\n",
              "    </tr>\n",
              "    <tr>\n",
              "      <th>23</th>\n",
              "      <td>35</td>\n",
              "      <td>28</td>\n",
              "    </tr>\n",
              "    <tr>\n",
              "      <th>24</th>\n",
              "      <td>40</td>\n",
              "      <td>29</td>\n",
              "    </tr>\n",
              "    <tr>\n",
              "      <th>25</th>\n",
              "      <td>23</td>\n",
              "      <td>29</td>\n",
              "    </tr>\n",
              "    <tr>\n",
              "      <th>26</th>\n",
              "      <td>21</td>\n",
              "      <td>30</td>\n",
              "    </tr>\n",
              "    <tr>\n",
              "      <th>27</th>\n",
              "      <td>18</td>\n",
              "      <td>33</td>\n",
              "    </tr>\n",
              "    <tr>\n",
              "      <th>28</th>\n",
              "      <td>21</td>\n",
              "      <td>33</td>\n",
              "    </tr>\n",
              "    <tr>\n",
              "      <th>29</th>\n",
              "      <td>42</td>\n",
              "      <td>34</td>\n",
              "    </tr>\n",
              "    <tr>\n",
              "      <th>30</th>\n",
              "      <td>30</td>\n",
              "      <td>34</td>\n",
              "    </tr>\n",
              "    <tr>\n",
              "      <th>31</th>\n",
              "      <td>36</td>\n",
              "      <td>37</td>\n",
              "    </tr>\n",
              "    <tr>\n",
              "      <th>32</th>\n",
              "      <td>20</td>\n",
              "      <td>37</td>\n",
              "    </tr>\n",
              "    <tr>\n",
              "      <th>33</th>\n",
              "      <td>24</td>\n",
              "      <td>38</td>\n",
              "    </tr>\n",
              "    <tr>\n",
              "      <th>34</th>\n",
              "      <td>31</td>\n",
              "      <td>39</td>\n",
              "    </tr>\n",
              "    <tr>\n",
              "      <th>35</th>\n",
              "      <td>24</td>\n",
              "      <td>39</td>\n",
              "    </tr>\n",
              "    <tr>\n",
              "      <th>36</th>\n",
              "      <td>27</td>\n",
              "      <td>40</td>\n",
              "    </tr>\n",
              "    <tr>\n",
              "      <th>37</th>\n",
              "      <td>29</td>\n",
              "      <td>40</td>\n",
              "    </tr>\n",
              "    <tr>\n",
              "      <th>38</th>\n",
              "      <td>31</td>\n",
              "      <td>40</td>\n",
              "    </tr>\n",
              "    <tr>\n",
              "      <th>39</th>\n",
              "      <td>33</td>\n",
              "      <td>42</td>\n",
              "    </tr>\n",
              "    <tr>\n",
              "      <th>40</th>\n",
              "      <td>31</td>\n",
              "      <td>43</td>\n",
              "    </tr>\n",
              "  </tbody>\n",
              "</table>\n",
              "</div>\n",
              "      <button class=\"colab-df-convert\" onclick=\"convertToInteractive('df-966377bf-4e21-4816-8e1a-8f04dd64bea4')\"\n",
              "              title=\"Convert this dataframe to an interactive table.\"\n",
              "              style=\"display:none;\">\n",
              "        \n",
              "  <svg xmlns=\"http://www.w3.org/2000/svg\" height=\"24px\"viewBox=\"0 0 24 24\"\n",
              "       width=\"24px\">\n",
              "    <path d=\"M0 0h24v24H0V0z\" fill=\"none\"/>\n",
              "    <path d=\"M18.56 5.44l.94 2.06.94-2.06 2.06-.94-2.06-.94-.94-2.06-.94 2.06-2.06.94zm-11 1L8.5 8.5l.94-2.06 2.06-.94-2.06-.94L8.5 2.5l-.94 2.06-2.06.94zm10 10l.94 2.06.94-2.06 2.06-.94-2.06-.94-.94-2.06-.94 2.06-2.06.94z\"/><path d=\"M17.41 7.96l-1.37-1.37c-.4-.4-.92-.59-1.43-.59-.52 0-1.04.2-1.43.59L10.3 9.45l-7.72 7.72c-.78.78-.78 2.05 0 2.83L4 21.41c.39.39.9.59 1.41.59.51 0 1.02-.2 1.41-.59l7.78-7.78 2.81-2.81c.8-.78.8-2.07 0-2.86zM5.41 20L4 18.59l7.72-7.72 1.47 1.35L5.41 20z\"/>\n",
              "  </svg>\n",
              "      </button>\n",
              "      \n",
              "  <style>\n",
              "    .colab-df-container {\n",
              "      display:flex;\n",
              "      flex-wrap:wrap;\n",
              "      gap: 12px;\n",
              "    }\n",
              "\n",
              "    .colab-df-convert {\n",
              "      background-color: #E8F0FE;\n",
              "      border: none;\n",
              "      border-radius: 50%;\n",
              "      cursor: pointer;\n",
              "      display: none;\n",
              "      fill: #1967D2;\n",
              "      height: 32px;\n",
              "      padding: 0 0 0 0;\n",
              "      width: 32px;\n",
              "    }\n",
              "\n",
              "    .colab-df-convert:hover {\n",
              "      background-color: #E2EBFA;\n",
              "      box-shadow: 0px 1px 2px rgba(60, 64, 67, 0.3), 0px 1px 3px 1px rgba(60, 64, 67, 0.15);\n",
              "      fill: #174EA6;\n",
              "    }\n",
              "\n",
              "    [theme=dark] .colab-df-convert {\n",
              "      background-color: #3B4455;\n",
              "      fill: #D2E3FC;\n",
              "    }\n",
              "\n",
              "    [theme=dark] .colab-df-convert:hover {\n",
              "      background-color: #434B5C;\n",
              "      box-shadow: 0px 1px 3px 1px rgba(0, 0, 0, 0.15);\n",
              "      filter: drop-shadow(0px 1px 2px rgba(0, 0, 0, 0.3));\n",
              "      fill: #FFFFFF;\n",
              "    }\n",
              "  </style>\n",
              "\n",
              "      <script>\n",
              "        const buttonEl =\n",
              "          document.querySelector('#df-966377bf-4e21-4816-8e1a-8f04dd64bea4 button.colab-df-convert');\n",
              "        buttonEl.style.display =\n",
              "          google.colab.kernel.accessAllowed ? 'block' : 'none';\n",
              "\n",
              "        async function convertToInteractive(key) {\n",
              "          const element = document.querySelector('#df-966377bf-4e21-4816-8e1a-8f04dd64bea4');\n",
              "          const dataTable =\n",
              "            await google.colab.kernel.invokeFunction('convertToInteractive',\n",
              "                                                     [key], {});\n",
              "          if (!dataTable) return;\n",
              "\n",
              "          const docLinkHtml = 'Like what you see? Visit the ' +\n",
              "            '<a target=\"_blank\" href=https://colab.research.google.com/notebooks/data_table.ipynb>data table notebook</a>'\n",
              "            + ' to learn more about interactive tables.';\n",
              "          element.innerHTML = '';\n",
              "          dataTable['output_type'] = 'display_data';\n",
              "          await google.colab.output.renderOutput(dataTable, element);\n",
              "          const docLink = document.createElement('div');\n",
              "          docLink.innerHTML = docLinkHtml;\n",
              "          element.appendChild(docLink);\n",
              "        }\n",
              "      </script>\n",
              "    </div>\n",
              "  </div>\n",
              "  "
            ]
          },
          "metadata": {},
          "execution_count": 23
        }
      ]
    },
    {
      "cell_type": "code",
      "source": [
        "# tabular representation\n",
        "cluster_2 = pd.DataFrame({'Age' :x[y_kmean==1,0] , 'Income' : x[y_kmean==1,1] })\n",
        "cluster_2"
      ],
      "metadata": {
        "colab": {
          "base_uri": "https://localhost:8080/",
          "height": 1021
        },
        "id": "PFOZI882FLKo",
        "outputId": "4a2dba79-ecdb-4532-847c-8adb07be04ec"
      },
      "execution_count": null,
      "outputs": [
        {
          "output_type": "execute_result",
          "data": {
            "text/plain": [
              "    Age  Income\n",
              "0    27      46\n",
              "1    19      46\n",
              "2    18      48\n",
              "3    19      48\n",
              "4    32      48\n",
              "5    26      54\n",
              "6    40      54\n",
              "7    23      54\n",
              "8    38      54\n",
              "9    21      54\n",
              "10   22      57\n",
              "11   34      58\n",
              "12   18      59\n",
              "13   40      60\n",
              "14   32      60\n",
              "15   24      60\n",
              "16   27      60\n",
              "17   20      61\n",
              "18   23      62\n",
              "19   26      62\n",
              "20   21      62\n",
              "21   19      63\n",
              "22   38      64\n",
              "23   19      64\n",
              "24   18      65\n",
              "25   19      65\n",
              "26   27      67\n",
              "27   23      70\n",
              "28   25      72\n",
              "29   20      73\n",
              "30   19      74"
            ],
            "text/html": [
              "\n",
              "  <div id=\"df-bb92ed8a-f153-4570-b845-763ad68c40b4\">\n",
              "    <div class=\"colab-df-container\">\n",
              "      <div>\n",
              "<style scoped>\n",
              "    .dataframe tbody tr th:only-of-type {\n",
              "        vertical-align: middle;\n",
              "    }\n",
              "\n",
              "    .dataframe tbody tr th {\n",
              "        vertical-align: top;\n",
              "    }\n",
              "\n",
              "    .dataframe thead th {\n",
              "        text-align: right;\n",
              "    }\n",
              "</style>\n",
              "<table border=\"1\" class=\"dataframe\">\n",
              "  <thead>\n",
              "    <tr style=\"text-align: right;\">\n",
              "      <th></th>\n",
              "      <th>Age</th>\n",
              "      <th>Income</th>\n",
              "    </tr>\n",
              "  </thead>\n",
              "  <tbody>\n",
              "    <tr>\n",
              "      <th>0</th>\n",
              "      <td>27</td>\n",
              "      <td>46</td>\n",
              "    </tr>\n",
              "    <tr>\n",
              "      <th>1</th>\n",
              "      <td>19</td>\n",
              "      <td>46</td>\n",
              "    </tr>\n",
              "    <tr>\n",
              "      <th>2</th>\n",
              "      <td>18</td>\n",
              "      <td>48</td>\n",
              "    </tr>\n",
              "    <tr>\n",
              "      <th>3</th>\n",
              "      <td>19</td>\n",
              "      <td>48</td>\n",
              "    </tr>\n",
              "    <tr>\n",
              "      <th>4</th>\n",
              "      <td>32</td>\n",
              "      <td>48</td>\n",
              "    </tr>\n",
              "    <tr>\n",
              "      <th>5</th>\n",
              "      <td>26</td>\n",
              "      <td>54</td>\n",
              "    </tr>\n",
              "    <tr>\n",
              "      <th>6</th>\n",
              "      <td>40</td>\n",
              "      <td>54</td>\n",
              "    </tr>\n",
              "    <tr>\n",
              "      <th>7</th>\n",
              "      <td>23</td>\n",
              "      <td>54</td>\n",
              "    </tr>\n",
              "    <tr>\n",
              "      <th>8</th>\n",
              "      <td>38</td>\n",
              "      <td>54</td>\n",
              "    </tr>\n",
              "    <tr>\n",
              "      <th>9</th>\n",
              "      <td>21</td>\n",
              "      <td>54</td>\n",
              "    </tr>\n",
              "    <tr>\n",
              "      <th>10</th>\n",
              "      <td>22</td>\n",
              "      <td>57</td>\n",
              "    </tr>\n",
              "    <tr>\n",
              "      <th>11</th>\n",
              "      <td>34</td>\n",
              "      <td>58</td>\n",
              "    </tr>\n",
              "    <tr>\n",
              "      <th>12</th>\n",
              "      <td>18</td>\n",
              "      <td>59</td>\n",
              "    </tr>\n",
              "    <tr>\n",
              "      <th>13</th>\n",
              "      <td>40</td>\n",
              "      <td>60</td>\n",
              "    </tr>\n",
              "    <tr>\n",
              "      <th>14</th>\n",
              "      <td>32</td>\n",
              "      <td>60</td>\n",
              "    </tr>\n",
              "    <tr>\n",
              "      <th>15</th>\n",
              "      <td>24</td>\n",
              "      <td>60</td>\n",
              "    </tr>\n",
              "    <tr>\n",
              "      <th>16</th>\n",
              "      <td>27</td>\n",
              "      <td>60</td>\n",
              "    </tr>\n",
              "    <tr>\n",
              "      <th>17</th>\n",
              "      <td>20</td>\n",
              "      <td>61</td>\n",
              "    </tr>\n",
              "    <tr>\n",
              "      <th>18</th>\n",
              "      <td>23</td>\n",
              "      <td>62</td>\n",
              "    </tr>\n",
              "    <tr>\n",
              "      <th>19</th>\n",
              "      <td>26</td>\n",
              "      <td>62</td>\n",
              "    </tr>\n",
              "    <tr>\n",
              "      <th>20</th>\n",
              "      <td>21</td>\n",
              "      <td>62</td>\n",
              "    </tr>\n",
              "    <tr>\n",
              "      <th>21</th>\n",
              "      <td>19</td>\n",
              "      <td>63</td>\n",
              "    </tr>\n",
              "    <tr>\n",
              "      <th>22</th>\n",
              "      <td>38</td>\n",
              "      <td>64</td>\n",
              "    </tr>\n",
              "    <tr>\n",
              "      <th>23</th>\n",
              "      <td>19</td>\n",
              "      <td>64</td>\n",
              "    </tr>\n",
              "    <tr>\n",
              "      <th>24</th>\n",
              "      <td>18</td>\n",
              "      <td>65</td>\n",
              "    </tr>\n",
              "    <tr>\n",
              "      <th>25</th>\n",
              "      <td>19</td>\n",
              "      <td>65</td>\n",
              "    </tr>\n",
              "    <tr>\n",
              "      <th>26</th>\n",
              "      <td>27</td>\n",
              "      <td>67</td>\n",
              "    </tr>\n",
              "    <tr>\n",
              "      <th>27</th>\n",
              "      <td>23</td>\n",
              "      <td>70</td>\n",
              "    </tr>\n",
              "    <tr>\n",
              "      <th>28</th>\n",
              "      <td>25</td>\n",
              "      <td>72</td>\n",
              "    </tr>\n",
              "    <tr>\n",
              "      <th>29</th>\n",
              "      <td>20</td>\n",
              "      <td>73</td>\n",
              "    </tr>\n",
              "    <tr>\n",
              "      <th>30</th>\n",
              "      <td>19</td>\n",
              "      <td>74</td>\n",
              "    </tr>\n",
              "  </tbody>\n",
              "</table>\n",
              "</div>\n",
              "      <button class=\"colab-df-convert\" onclick=\"convertToInteractive('df-bb92ed8a-f153-4570-b845-763ad68c40b4')\"\n",
              "              title=\"Convert this dataframe to an interactive table.\"\n",
              "              style=\"display:none;\">\n",
              "        \n",
              "  <svg xmlns=\"http://www.w3.org/2000/svg\" height=\"24px\"viewBox=\"0 0 24 24\"\n",
              "       width=\"24px\">\n",
              "    <path d=\"M0 0h24v24H0V0z\" fill=\"none\"/>\n",
              "    <path d=\"M18.56 5.44l.94 2.06.94-2.06 2.06-.94-2.06-.94-.94-2.06-.94 2.06-2.06.94zm-11 1L8.5 8.5l.94-2.06 2.06-.94-2.06-.94L8.5 2.5l-.94 2.06-2.06.94zm10 10l.94 2.06.94-2.06 2.06-.94-2.06-.94-.94-2.06-.94 2.06-2.06.94z\"/><path d=\"M17.41 7.96l-1.37-1.37c-.4-.4-.92-.59-1.43-.59-.52 0-1.04.2-1.43.59L10.3 9.45l-7.72 7.72c-.78.78-.78 2.05 0 2.83L4 21.41c.39.39.9.59 1.41.59.51 0 1.02-.2 1.41-.59l7.78-7.78 2.81-2.81c.8-.78.8-2.07 0-2.86zM5.41 20L4 18.59l7.72-7.72 1.47 1.35L5.41 20z\"/>\n",
              "  </svg>\n",
              "      </button>\n",
              "      \n",
              "  <style>\n",
              "    .colab-df-container {\n",
              "      display:flex;\n",
              "      flex-wrap:wrap;\n",
              "      gap: 12px;\n",
              "    }\n",
              "\n",
              "    .colab-df-convert {\n",
              "      background-color: #E8F0FE;\n",
              "      border: none;\n",
              "      border-radius: 50%;\n",
              "      cursor: pointer;\n",
              "      display: none;\n",
              "      fill: #1967D2;\n",
              "      height: 32px;\n",
              "      padding: 0 0 0 0;\n",
              "      width: 32px;\n",
              "    }\n",
              "\n",
              "    .colab-df-convert:hover {\n",
              "      background-color: #E2EBFA;\n",
              "      box-shadow: 0px 1px 2px rgba(60, 64, 67, 0.3), 0px 1px 3px 1px rgba(60, 64, 67, 0.15);\n",
              "      fill: #174EA6;\n",
              "    }\n",
              "\n",
              "    [theme=dark] .colab-df-convert {\n",
              "      background-color: #3B4455;\n",
              "      fill: #D2E3FC;\n",
              "    }\n",
              "\n",
              "    [theme=dark] .colab-df-convert:hover {\n",
              "      background-color: #434B5C;\n",
              "      box-shadow: 0px 1px 3px 1px rgba(0, 0, 0, 0.15);\n",
              "      filter: drop-shadow(0px 1px 2px rgba(0, 0, 0, 0.3));\n",
              "      fill: #FFFFFF;\n",
              "    }\n",
              "  </style>\n",
              "\n",
              "      <script>\n",
              "        const buttonEl =\n",
              "          document.querySelector('#df-bb92ed8a-f153-4570-b845-763ad68c40b4 button.colab-df-convert');\n",
              "        buttonEl.style.display =\n",
              "          google.colab.kernel.accessAllowed ? 'block' : 'none';\n",
              "\n",
              "        async function convertToInteractive(key) {\n",
              "          const element = document.querySelector('#df-bb92ed8a-f153-4570-b845-763ad68c40b4');\n",
              "          const dataTable =\n",
              "            await google.colab.kernel.invokeFunction('convertToInteractive',\n",
              "                                                     [key], {});\n",
              "          if (!dataTable) return;\n",
              "\n",
              "          const docLinkHtml = 'Like what you see? Visit the ' +\n",
              "            '<a target=\"_blank\" href=https://colab.research.google.com/notebooks/data_table.ipynb>data table notebook</a>'\n",
              "            + ' to learn more about interactive tables.';\n",
              "          element.innerHTML = '';\n",
              "          dataTable['output_type'] = 'display_data';\n",
              "          await google.colab.output.renderOutput(dataTable, element);\n",
              "          const docLink = document.createElement('div');\n",
              "          docLink.innerHTML = docLinkHtml;\n",
              "          element.appendChild(docLink);\n",
              "        }\n",
              "      </script>\n",
              "    </div>\n",
              "  </div>\n",
              "  "
            ]
          },
          "metadata": {},
          "execution_count": 24
        }
      ]
    },
    {
      "cell_type": "code",
      "source": [
        "# cluster vis\n",
        "plt.figure(figsize=(10,6))\n",
        "# =============putting cluster 1\n",
        "plt.scatter(x[y_kmean==0,0],x[y_kmean==0,1] , s = 5 , c ='red', label='C1')\n",
        "# put centroid\n",
        "plt.scatter(25.06451613,  59.48387097 , s = 50 , c ='black', marker='*')\n",
        "# ==============putting cluster 2\n",
        "plt.scatter(x[y_kmean==1,0],x[y_kmean==1,1] , s = 5 , c ='blue', label='C2')\n",
        "# put centroid\n",
        "plt.scatter( 29.53658537,  27.24390244, s = 50 , c ='black', marker='*')\n",
        "# ==============putting cluster 3\n",
        "plt.scatter(x[y_kmean==2,0],x[y_kmean==2,1] , s = 5 , c ='black', label='C3')\n",
        "# put centroid\n",
        "plt.scatter( 36.6       , 109.7 , s = 50 , c ='red', marker='*')\n",
        "# ==============putting cluster 4\n",
        "plt.scatter(x[y_kmean==3,0],x[y_kmean==3,1] , s = 5 , c ='green', label='C4')\n",
        "# put centroid\n",
        "plt.scatter(56.62      ,  48.48 , s = 50 , c ='black', marker='*')\n",
        "# ==============putting cluster 5\n",
        "plt.scatter(x[y_kmean==4,0],x[y_kmean==4,1] , s = 5 , c ='orange', label='C5')\n",
        "# put centroid\n",
        "plt.scatter(38.25862069,  78.15517241 , s = 50 , c ='black', marker='*')\n",
        "\n",
        "plt.xlabel('age')\n",
        "plt.ylabel('income')\n",
        "plt.legend()\n",
        "plt.show()"
      ],
      "metadata": {
        "colab": {
          "base_uri": "https://localhost:8080/",
          "height": 388
        },
        "id": "lyOL2UstFyL3",
        "outputId": "468ed736-e2a8-41dd-d2fc-26d18f666ee8"
      },
      "execution_count": null,
      "outputs": [
        {
          "output_type": "display_data",
          "data": {
            "text/plain": [
              "<Figure size 720x432 with 1 Axes>"
            ],
            "image/png": "[encoded data removed]"
          },
          "metadata": {
            "needs_background": "light"
          }
        }
      ]
    },
    {
      "cell_type": "code",
      "source": [
        "# conclusion : in Cluster 1 we found some persons whose age between 15 to 59\n",
        "# thet have annual income between 60 K$ to 90 K$\n",
        "\n",
        "\n",
        "# conclusion : in Cluster 2 we found some persons whose age between 10 to 55\n",
        "# thet have annual income between 10 K$ to 40 K$\n",
        "\n",
        "# conclusion : in Cluster 3 we found some persons whose age between 28 to 55\n",
        "# thet have annual income between 95 K$ to 135 K$\n",
        "\n",
        "# conclusion : in Cluster 4 we found some persons whose age between 43 to 70\n",
        "# thet have annual income between 45 K$ to 75 K$\n",
        "\n",
        "# conclusion : in Cluster 5 we found some persons whose age between 10 to 40\n",
        "# thet have annual income between 10 K$ to 40 K$"
      ],
      "metadata": {
        "id": "d7LRLT9uFLOD"
      },
      "execution_count": null,
      "outputs": []
    },
    {
      "cell_type": "code",
      "source": [
        "# original shape\n",
        "plt.figure(figsize=(10,6))\n",
        "plt.scatter(x[:,0] ,x[:,1],s=5) # x[:,0] = age column , x[:,1]= annual income\n",
        "plt.xlabel('Age')\n",
        "plt.ylabel('Annual Income')\n",
        "plt.show()"
      ],
      "metadata": {
        "colab": {
          "base_uri": "https://localhost:8080/",
          "height": 388
        },
        "id": "5WzGE6WVF6xh",
        "outputId": "d702c042-c9cb-4b2c-8d9d-f1e5b56eb46a"
      },
      "execution_count": null,
      "outputs": [
        {
          "output_type": "display_data",
          "data": {
            "text/plain": [
              "<Figure size 720x432 with 1 Axes>"
            ],
            "image/png": "[encoded data removed]"
          },
          "metadata": {
            "needs_background": "light"
          }
        }
      ]
    }
  ]
}